{
 "cells": [
  {
   "cell_type": "code",
   "execution_count": 8,
   "metadata": {},
   "outputs": [],
   "source": [
    "# test padding \n",
    "import os\n",
    "import pandas as pd\n",
    "import numpy as np"
   ]
  },
  {
   "cell_type": "code",
   "execution_count": 11,
   "metadata": {},
   "outputs": [
    {
     "name": "stdout",
     "output_type": "stream",
     "text": [
      "(4375, 3480)\n",
      "1    3000001\n",
      "2    4000001\n",
      "Name: start, dtype: int64\n",
      "1    3500000\n",
      "2    4500000\n",
      "Name: end, dtype: int64\n"
     ]
    }
   ],
   "source": [
    "del cn\n",
    "input_dir = '/home/htran/storage/datasets/metastasis_results/SA535_new_encoding/Tyler_whole'\n",
    "# hmmcopy_fn = os.path.join(input_dir, 'bin_cnvs_corrupt_double_padding.csv')\n",
    "hmmcopy_fn = os.path.join(input_dir, 'total_merged_filtered_states_original_chr.csv')\n",
    "# cn = pd.read_csv(hmmcopy_fn, header=0, dtype={'chr': str,'start':np.int64,'end':np.int64,'width':np.int64})\n",
    "cn = pd.read_csv(hmmcopy_fn, header=0, dtype={'chr': str})\n",
    "# cn = pd.read_csv(hmmcopy_fn, header=0, dtype={'chr': str})\n",
    "# cn = pd.read_csv(argv.input, header=0, dtype={'chr': str})\n",
    "print(cn.shape)\n",
    "print(cn['start'][1:3])\n",
    "print(cn['end'][1:3])"
   ]
  },
  {
   "cell_type": "code",
   "execution_count": 12,
   "metadata": {},
   "outputs": [
    {
     "name": "stdout",
     "output_type": "stream",
     "text": [
      "1    500000\n",
      "2    500000\n",
      "Name: width, dtype: int64\n"
     ]
    }
   ],
   "source": [
    "print(cn['width'][1:3])"
   ]
  },
  {
   "cell_type": "code",
   "execution_count": 2,
   "metadata": {},
   "outputs": [],
   "source": [
    "input_dir = '/home/htran/storage/datasets/metastasis_results/SA919X7_new_encoding/SA919X7_whole_local_tyler/schnapps_out'\n",
    "filename = os.path.join(input_dir, 'total_merged_filtered_states_cnbins.csv')\n",
    "filtered_state_data = pd.read_csv(filename, header=0)"
   ]
  },
  {
   "cell_type": "code",
   "execution_count": 3,
   "metadata": {},
   "outputs": [
    {
     "data": {
      "text/plain": [
       "(25475625, 11)"
      ]
     },
     "execution_count": 3,
     "metadata": {},
     "output_type": "execute_result"
    }
   ],
   "source": [
    "filtered_state_data.shape"
   ]
  },
  {
   "cell_type": "code",
   "execution_count": 4,
   "metadata": {},
   "outputs": [
    {
     "data": {
      "text/plain": [
       "(4375, 5823)"
      ]
     },
     "execution_count": 4,
     "metadata": {},
     "output_type": "execute_result"
    }
   ],
   "source": [
    "filtered_state_data['loci'] = filtered_state_data[['chr', 'start', 'end','width']].apply(lambda x: '_'.join(map(str, x)), axis=1)\n",
    "\n",
    "filtered = filtered_state_data.pivot(index='loci', columns='cell_id', values='state')\n",
    "filtered = filtered.dropna(axis='columns', how='all')\n",
    "filtered.shape"
   ]
  },
  {
   "cell_type": "code",
   "execution_count": 7,
   "metadata": {},
   "outputs": [],
   "source": [
    "lbs = filtered.index"
   ]
  },
  {
   "cell_type": "code",
   "execution_count": 11,
   "metadata": {},
   "outputs": [
    {
     "name": "stdout",
     "output_type": "stream",
     "text": [
      "4375\n"
     ]
    }
   ],
   "source": [
    "chr_ls = []\n",
    "start_ls = []\n",
    "end_ls = []\n",
    "width_ls = []\n",
    "for lb in lbs:\n",
    "    tmp = lb.split('_')\n",
    "    chr_ls.append(tmp[0])\n",
    "    start_ls.append(tmp[1])\n",
    "    end_ls.append(tmp[2])\n",
    "    width_ls.append(tmp[3])\n",
    "    \n",
    "print(len(chr_ls))"
   ]
  },
  {
   "cell_type": "code",
   "execution_count": 14,
   "metadata": {},
   "outputs": [],
   "source": [
    "filtered['chr'] = chr_ls"
   ]
  },
  {
   "cell_type": "code",
   "execution_count": 16,
   "metadata": {},
   "outputs": [],
   "source": [
    "filtered['start'] = start_ls\n",
    "filtered['end'] = end_ls\n",
    "filtered['width'] = width_ls"
   ]
  },
  {
   "cell_type": "code",
   "execution_count": 20,
   "metadata": {},
   "outputs": [],
   "source": [
    "filtered.to_csv(os.path.join(input_dir, 'total_merged_filtered_states_tl1.csv'),index=False)"
   ]
  },
  {
   "cell_type": "code",
   "execution_count": 21,
   "metadata": {},
   "outputs": [],
   "source": [
    "filtered.to_csv(os.path.join(input_dir, 'total_merged_filtered_states_tl_rn.csv'))"
   ]
  },
  {
   "cell_type": "code",
   "execution_count": 23,
   "metadata": {},
   "outputs": [
    {
     "data": {
      "text/plain": [
       "5827"
      ]
     },
     "execution_count": 23,
     "metadata": {},
     "output_type": "execute_result"
    }
   ],
   "source": [
    "filtered.shape[1]"
   ]
  },
  {
   "cell_type": "code",
   "execution_count": 12,
   "metadata": {},
   "outputs": [
    {
     "data": {
      "text/plain": [
       "(4375, 5823)"
      ]
     },
     "execution_count": 12,
     "metadata": {},
     "output_type": "execute_result"
    }
   ],
   "source": [
    "input_dir = '/home/htran/storage/datasets/metastasis_results/SA919X7_new_encoding/SA919X7_whole_local_tyler'\n",
    "filename = os.path.join(input_dir, 'total_merged_filtered_states.csv')\n",
    "filtered_state_data = pd.read_csv(filename, header=0,index_col=0)\n",
    "filtered_state_data.shape"
   ]
  },
  {
   "cell_type": "code",
   "execution_count": null,
   "metadata": {},
   "outputs": [],
   "source": [
    "filtered.shape"
   ]
  },
  {
   "cell_type": "code",
   "execution_count": 13,
   "metadata": {},
   "outputs": [
    {
     "data": {
      "text/plain": [
       "Index(['1_3000001_3500000', '1_4000001_4500000'], dtype='object')"
      ]
     },
     "execution_count": 13,
     "metadata": {},
     "output_type": "execute_result"
    }
   ],
   "source": [
    "filtered_state_data.index[1:3]"
   ]
  },
  {
   "cell_type": "code",
   "execution_count": 14,
   "metadata": {},
   "outputs": [
    {
     "data": {
      "text/plain": [
       "array([[1, 1, 1, ..., 2, 1, 1],\n",
       "       [1, 1, 1, ..., 2, 1, 1]])"
      ]
     },
     "execution_count": 14,
     "metadata": {},
     "output_type": "execute_result"
    }
   ],
   "source": [
    "filtered_state_data.values[1:3]"
   ]
  },
  {
   "cell_type": "code",
   "execution_count": 15,
   "metadata": {},
   "outputs": [
    {
     "data": {
      "text/plain": [
       "Index(['SA919X7XB05691-A96204B-R29-C08', 'SA919X7XB05691-A96204B-R29-C12'], dtype='object')"
      ]
     },
     "execution_count": 15,
     "metadata": {},
     "output_type": "execute_result"
    }
   ],
   "source": [
    "filtered_state_data.columns[1:3]"
   ]
  },
  {
   "cell_type": "code",
   "execution_count": null,
   "metadata": {},
   "outputs": [],
   "source": []
  }
 ],
 "metadata": {
  "kernelspec": {
   "display_name": "Python 3",
   "language": "python",
   "name": "python3"
  },
  "language_info": {
   "codemirror_mode": {
    "name": "ipython",
    "version": 3
   },
   "file_extension": ".py",
   "mimetype": "text/x-python",
   "name": "python",
   "nbconvert_exporter": "python",
   "pygments_lexer": "ipython3",
   "version": "3.7.6"
  }
 },
 "nbformat": 4,
 "nbformat_minor": 4
}
