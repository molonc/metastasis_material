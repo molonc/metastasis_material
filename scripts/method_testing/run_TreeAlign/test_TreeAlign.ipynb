{
 "cells": [
  {
   "cell_type": "code",
   "execution_count": 1,
   "id": "b518e52b",
   "metadata": {},
   "outputs": [],
   "source": [
    "import sys\n",
    "import os\n",
    "# import re\n",
    "# import gzip\n",
    "import argparse\n",
    "# import subprocess\n",
    "import pandas as pd\n",
    "import numpy as np\n",
    "\n",
    "import utils"
   ]
  },
  {
   "cell_type": "code",
   "execution_count": 2,
   "id": "3cb7097a",
   "metadata": {},
   "outputs": [
    {
     "name": "stdout",
     "output_type": "stream",
     "text": [
      "/home/htran/storage/rnaseq_datasets/testing_space/clonealign2/SA535X4XB05462/SA535X4XB05462_expr_introns.csv.gz\n",
      "/home/htran/storage/rnaseq_datasets/testing_space/clonealign2/SA535X4XB05462/SA535X4XB05462_clones_cnv.csv.gz\n",
      "/home/htran/storage/rnaseq_datasets/testing_space/clonealign2/SA535X4XB05462/SA535X4XB05462_cell_clones.csv.gz\n"
     ]
    }
   ],
   "source": [
    "input_dir = '/home/htran/storage/rnaseq_datasets/testing_space/clonealign2/SA535X4XB05462/'\n",
    "save_dir = '/home/htran/storage/rnaseq_datasets/testing_space/clonealign2/SA535X4XB05462/test_TreeAlign/'\n",
    "datatag = 'SA535X4XB05462'\n",
    "# expr_fn = os.path.join(input_dir,datatag+'_expr.csv.gz')\n",
    "expr_fn = os.path.join(input_dir,datatag+'_expr_introns.csv.gz')\n",
    "cnv_fn = os.path.join(input_dir,datatag+'_clones_cnv.csv.gz')\n",
    "cell_clones_fn = os.path.join(input_dir,datatag+'_cell_clones.csv.gz')\n",
    "tree_fn = None\n",
    "\n",
    "print(expr_fn)\n",
    "print(cnv_fn)\n",
    "print(cell_clones_fn)\n"
   ]
  },
  {
   "cell_type": "code",
   "execution_count": 9,
   "id": "b876c33d",
   "metadata": {},
   "outputs": [],
   "source": [
    "import logging\n",
    "TreeAlign_mode = 'ddd'\n",
    "from logging.handlers import TimedRotatingFileHandler\n",
    "log_fn = os.path.join(save_dir, datatag+'_log_params.txt')\n",
    "h = TimedRotatingFileHandler(log_fn)\n",
    "\n",
    "logging.basicConfig(filename=os.path.join(save_dir, datatag+'_log_params.txt'), encoding='utf-8', level=logging.DEBUG, filemode='w')\n",
    "logging.info(expr_fn)\n",
    "logging.info(cnv_fn)\n",
    "logging.info(datatag)\n",
    "logging.info('TreeAlign_mode: ' + TreeAlign_mode)\n",
    "\n",
    "# logging.info('min_clone_assign_prob: '+min_clone_assign_prob)\n",
    "# logging.info(iterations+' iterations')\n",
    "logging.info(datatag)\n",
    "logging.info(save_dir)\n",
    "# logging.info(f\"The time of execution of replication timing program is : {td:.03f} mins\")"
   ]
  },
  {
   "cell_type": "code",
   "execution_count": 7,
   "id": "6e2fb47f",
   "metadata": {},
   "outputs": [
    {
     "data": {
      "text/plain": [
       "'/home/htran/storage/rnaseq_datasets/testing_space/clonealign2/SA535X4XB05462/test_TreeAlign/SA535X4XB05462_log_params.txt'"
      ]
     },
     "execution_count": 7,
     "metadata": {},
     "output_type": "execute_result"
    }
   ],
   "source": [
    "# --expr_fn /home/htran/Projects/farhia_project/rnaseq/method_testing/TreeAlign/data/example_expr.csv --cnv_fn /home/htran/Projects/farhia_project/rnaseq/method_testing/TreeAlign/data/example_gene_cnv.csv --cell_clones_fn /home/htran/Projects/farhia_project/rnaseq/method_testing/TreeAlign/data/example_cell_clone.csv --datatag test --save_dir /home/htran/Projects/farhia_project/rnaseq/method_testing/TreeAlign/data/test_pipeline/\n",
    "\n",
    "# input_dir = '/home/htran/Projects/farhia_project/rnaseq/method_testing/TreeAlign/data/'\n",
    "# save_dir = '/home/htran/Projects/farhia_project/rnaseq/method_testing/TreeAlign/data/test_pipeline/'\n",
    "# expr_fn = os.path.join(input_dir,'example_expr.csv')\n",
    "# cnv_fn = os.path.join(input_dir,'example_gene_cnv.csv')\n",
    "# cell_clones_fn = os.path.join(input_dir,'example_cell_clone.csv')\n",
    "# tree_fn = None\n",
    "\n",
    "\n"
   ]
  },
  {
   "cell_type": "code",
   "execution_count": 4,
   "id": "c626fe57",
   "metadata": {},
   "outputs": [
    {
     "name": "stdout",
     "output_type": "stream",
     "text": [
      "Loading expression data: \n",
      "(938, 1872)\n",
      "                 AAACCCACACAGAGAC-1  AAACGCTTCCCGGTAG-1  AAAGAACCATCTGGGC-1  \\\n",
      "ENSG00000000457                   3                   0                   0   \n",
      "ENSG00000001626                  17                   8                   5   \n",
      "\n",
      "                 AAAGGATTCTTAATCC-1  AAAGGATTCTTCACAT-1  AAAGGGCGTTTGACAC-1  \\\n",
      "ENSG00000000457                   0                   0                   0   \n",
      "ENSG00000001626                   0                   0                   0   \n",
      "\n",
      "                 AAAGTCCTCATCTATC-1  AAAGTGAAGCTGTTAC-1  AAATGGAGTAACAGGC-1  \\\n",
      "ENSG00000000457                   1                   1                   0   \n",
      "ENSG00000001626                   3                   3                   0   \n",
      "\n",
      "                 AACAAAGCAACTCCAA-1  ...  TTCTAACGTGACGCCT-1  \\\n",
      "ENSG00000000457                   1  ...                   0   \n",
      "ENSG00000001626                   1  ...                   0   \n",
      "\n",
      "                 TTGATGGAGTATTGCC-1  TTGATGGGTTGCACGC-1  TTGCGTCTCCCTCATG-1  \\\n",
      "ENSG00000000457                   0                   0                   0   \n",
      "ENSG00000001626                   1                   0                   0   \n",
      "\n",
      "                 TTGGGCGAGTTGGCGA-1  TTGTTGTCAATTGAGA-1  TTTATGCAGAGCCGTA-1  \\\n",
      "ENSG00000000457                   0                   0                   0   \n",
      "ENSG00000001626                   0                   0                   4   \n",
      "\n",
      "                 TTTCACAGTATGAAGT-1  TTTCAGTAGCCTGAGA-1  TTTGGAGCAGGTTACT-1  \n",
      "ENSG00000000457                   0                   0                   1  \n",
      "ENSG00000001626                   3                   3                   0  \n",
      "\n",
      "[2 rows x 1872 columns]\n",
      "ENSG00000003436\n",
      "Loading CNV data: \n",
      "(938, 5)\n",
      "                 cell_A  cell_C  cell_H  cell_I  cell_N\n",
      "ENSG00000000457       4       3       5       4       5\n",
      "ENSG00000001626       4       6       4       4       4\n",
      "ENSG00000003436       3       3       3       4       4\n",
      "ENSG00000003436\n",
      "Loading cell clones data: \n",
      "(5, 2)\n",
      "  cell_id clone_id\n",
      "0  cell_A        A\n",
      "1  cell_C        C\n",
      "2  cell_H        H\n"
     ]
    }
   ],
   "source": [
    "\n",
    "\n",
    "\n",
    "input_dic = utils.load_input_data(expr_fn, cnv_fn, cell_clones_fn, tree_fn)"
   ]
  },
  {
   "cell_type": "code",
   "execution_count": 5,
   "id": "4c347dcb",
   "metadata": {},
   "outputs": [
    {
     "name": "stdout",
     "output_type": "stream",
     "text": [
      "Run TreeAlign using clonal inference mode\n",
      "Holala\n",
      "gene count: 938\n",
      "cell count: 1872\n",
      "seed = 1\n",
      "Start Inference.\n",
      "ELBO converged at iteration 137\n",
      "Not very czary\n"
     ]
    }
   ],
   "source": [
    "TreeAlign_mode = 'clonal_infer'\n",
    "min_clone_assign_prob = 0.6\n",
    "iterations = 500\n",
    "datatag = 'test'\n",
    "if cell_clones_fn is not None and TreeAlign_mode=='clonal_infer': \n",
    "    print('Run TreeAlign using clonal inference mode')\n",
    "    utils.run_clone_TreeAlign(input_dic[\"expr\"], input_dic[\"cnv\"], input_dic[\"clone\"], save_dir, datatag,\n",
    "                    min_clone_assign_prob=min_clone_assign_prob, max_iter=iterations, min_clone_cell_count=1, cnv_cutoff=8)\n",
    "else:\n",
    "    print('Run TreeAlign using tree phylogenetic as input for inference')\n",
    "    utils.run_phylo_TreeAlign(expr, cnv, tree, save_dir, datatag)"
   ]
  },
  {
   "cell_type": "code",
   "execution_count": 6,
   "id": "ccfc9239",
   "metadata": {},
   "outputs": [
    {
     "data": {
      "text/html": [
       "<div>\n",
       "<style scoped>\n",
       "    .dataframe tbody tr th:only-of-type {\n",
       "        vertical-align: middle;\n",
       "    }\n",
       "\n",
       "    .dataframe tbody tr th {\n",
       "        vertical-align: top;\n",
       "    }\n",
       "\n",
       "    .dataframe thead th {\n",
       "        text-align: right;\n",
       "    }\n",
       "</style>\n",
       "<table border=\"1\" class=\"dataframe\">\n",
       "  <thead>\n",
       "    <tr style=\"text-align: right;\">\n",
       "      <th></th>\n",
       "      <th>cell_id</th>\n",
       "      <th>clone_id</th>\n",
       "    </tr>\n",
       "  </thead>\n",
       "  <tbody>\n",
       "    <tr>\n",
       "      <th>0</th>\n",
       "      <td>AAACCCACACAGAGAC-1</td>\n",
       "      <td>I</td>\n",
       "    </tr>\n",
       "    <tr>\n",
       "      <th>1</th>\n",
       "      <td>AAACGCTTCCCGGTAG-1</td>\n",
       "      <td>A</td>\n",
       "    </tr>\n",
       "    <tr>\n",
       "      <th>2</th>\n",
       "      <td>AAAGAACCATCTGGGC-1</td>\n",
       "      <td>I</td>\n",
       "    </tr>\n",
       "  </tbody>\n",
       "</table>\n",
       "</div>"
      ],
      "text/plain": [
       "              cell_id clone_id\n",
       "0  AAACCCACACAGAGAC-1        I\n",
       "1  AAACGCTTCCCGGTAG-1        A\n",
       "2  AAAGAACCATCTGGGC-1        I"
      ]
     },
     "execution_count": 6,
     "metadata": {},
     "output_type": "execute_result"
    }
   ],
   "source": [
    "\n",
    "assigned_fn = os.path.join(save_dir, 'test_clone_assign.csv.gz')\n",
    "assigned = pd.read_csv(assigned_fn, compression='gzip') #, index_col=0\n",
    "\n",
    "assigned.head(3)"
   ]
  },
  {
   "cell_type": "code",
   "execution_count": 7,
   "id": "74557447",
   "metadata": {},
   "outputs": [
    {
     "name": "stdout",
     "output_type": "stream",
     "text": [
      "{'A': 500, 'C': 238, 'H': 629, 'I': 338, 'N': 156, 'nan': 11}\n"
     ]
    }
   ],
   "source": [
    "# str(assigned['clone_id'])\n",
    "cls = [str(c) for c in assigned['clone_id'].values]\n",
    "unique, counts = np.unique(cls, return_counts=True)\n",
    "print(dict(zip(unique, counts)))"
   ]
  },
  {
   "cell_type": "code",
   "execution_count": 8,
   "id": "4eeb826a",
   "metadata": {},
   "outputs": [],
   "source": []
  },
  {
   "cell_type": "code",
   "execution_count": null,
   "id": "6a714065",
   "metadata": {},
   "outputs": [],
   "source": []
  }
 ],
 "metadata": {
  "kernelspec": {
   "display_name": "sisyphus",
   "language": "python",
   "name": "sisyphus"
  },
  "language_info": {
   "codemirror_mode": {
    "name": "ipython",
    "version": 3
   },
   "file_extension": ".py",
   "mimetype": "text/x-python",
   "name": "python",
   "nbconvert_exporter": "python",
   "pygments_lexer": "ipython3",
   "version": "3.7.9"
  }
 },
 "nbformat": 4,
 "nbformat_minor": 5
}
