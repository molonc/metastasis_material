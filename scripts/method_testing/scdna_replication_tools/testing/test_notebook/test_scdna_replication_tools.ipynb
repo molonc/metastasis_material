{
 "cells": [
  {
   "cell_type": "code",
   "execution_count": 1,
   "id": "parallel-morris",
   "metadata": {},
   "outputs": [],
   "source": [
    "import scdna_replication_tools\n"
   ]
  },
  {
   "cell_type": "code",
   "execution_count": 2,
   "id": "another-dimension",
   "metadata": {},
   "outputs": [],
   "source": [
    "from scdna_replication_tools.pert_model import pyro_infer_scRT"
   ]
  },
  {
   "cell_type": "code",
   "execution_count": 7,
   "id": "defensive-melissa",
   "metadata": {},
   "outputs": [],
   "source": [
    "import pandas as pd\n",
    "import os\n",
    "input_dir = \"/home/htran/storage/raw_DLP/metastasis_DLP/SA919/A130854B/\"\n",
    "# input_gfn = os.path.join(input_dir, 'hmmcopy/filtered_reads_RT_g_cells.csv.gz') \n",
    "# input_sfn = os.path.join(input_dir, 'hmmcopy/filtered_reads_RT_s_cells.csv.gz') \n",
    "# cn_g = pd.read_csv(input_gfn,compression='gzip')\n",
    "# cn_s = pd.read_csv(input_sfn,compression='gzip')\n",
    "# print(cn_g.shape)\n",
    "# print(cn_s.shape)"
   ]
  },
  {
   "cell_type": "code",
   "execution_count": 10,
   "id": "worth-packing",
   "metadata": {},
   "outputs": [
    {
     "data": {
      "text/html": [
       "<div>\n",
       "<style scoped>\n",
       "    .dataframe tbody tr th:only-of-type {\n",
       "        vertical-align: middle;\n",
       "    }\n",
       "\n",
       "    .dataframe tbody tr th {\n",
       "        vertical-align: top;\n",
       "    }\n",
       "\n",
       "    .dataframe thead th {\n",
       "        text-align: right;\n",
       "    }\n",
       "</style>\n",
       "<table border=\"1\" class=\"dataframe\">\n",
       "  <thead>\n",
       "    <tr style=\"text-align: right;\">\n",
       "      <th></th>\n",
       "      <th>umap1</th>\n",
       "      <th>umap2</th>\n",
       "      <th>cell_id</th>\n",
       "      <th>clone_id</th>\n",
       "      <th>cell_type_status</th>\n",
       "      <th>library_id</th>\n",
       "    </tr>\n",
       "  </thead>\n",
       "  <tbody>\n",
       "    <tr>\n",
       "      <th>0</th>\n",
       "      <td>1.381536</td>\n",
       "      <td>2.646117</td>\n",
       "      <td>AT13696-A130854B-R48-C07</td>\n",
       "      <td>C</td>\n",
       "      <td>cn_g</td>\n",
       "      <td>A130854B</td>\n",
       "    </tr>\n",
       "    <tr>\n",
       "      <th>1</th>\n",
       "      <td>3.415137</td>\n",
       "      <td>3.929123</td>\n",
       "      <td>AT13696-A130854B-R48-C08</td>\n",
       "      <td>C</td>\n",
       "      <td>cn_g</td>\n",
       "      <td>A130854B</td>\n",
       "    </tr>\n",
       "    <tr>\n",
       "      <th>2</th>\n",
       "      <td>4.676253</td>\n",
       "      <td>4.291981</td>\n",
       "      <td>AT13696-A130854B-R48-C09</td>\n",
       "      <td>C</td>\n",
       "      <td>cn_s</td>\n",
       "      <td>A130854B</td>\n",
       "    </tr>\n",
       "  </tbody>\n",
       "</table>\n",
       "</div>"
      ],
      "text/plain": [
       "      umap1     umap2                   cell_id clone_id cell_type_status  \\\n",
       "0  1.381536  2.646117  AT13696-A130854B-R48-C07        C             cn_g   \n",
       "1  3.415137  3.929123  AT13696-A130854B-R48-C08        C             cn_g   \n",
       "2  4.676253  4.291981  AT13696-A130854B-R48-C09        C             cn_s   \n",
       "\n",
       "  library_id  \n",
       "0   A130854B  \n",
       "1   A130854B  \n",
       "2   A130854B  "
      ]
     },
     "execution_count": 10,
     "metadata": {},
     "output_type": "execute_result"
    }
   ],
   "source": [
    "cell_clones_fn = os.path.join(input_dir, 'RT_input/A130854B_filtered_cell_clones.csv') \n",
    "cell_clones = pd.read_csv(cell_clones_fn)\n",
    "import numpy as np\n",
    "libary_id = 'A130854B'\n",
    "cell_clones['library_id'] = np.repeat(libary_id,cell_clones.shape[0])\n",
    "cell_clones.to_csv(os.path.join(input_dir, 'RT_input/A130854B_filtered_cell_clones_v2.csv'), index=False)\n",
    "cell_clones.head(3)"
   ]
  },
  {
   "cell_type": "code",
   "execution_count": 11,
   "id": "driven-trance",
   "metadata": {},
   "outputs": [
    {
     "data": {
      "text/plain": [
       "'/home/htran/storage/raw_DLP/metastasis_DLP/SA919/A130854B/RT_input/A130854B_filtered_cell_clones_v2.csv'"
      ]
     },
     "execution_count": 11,
     "metadata": {},
     "output_type": "execute_result"
    }
   ],
   "source": [
    "os.path.join(input_dir, 'RT_input/A130854B_filtered_cell_clones_v2.csv')"
   ]
  },
  {
   "cell_type": "code",
   "execution_count": 33,
   "id": "aware-basin",
   "metadata": {},
   "outputs": [],
   "source": [
    "select_values = cn_g['cell_id'].values\n",
    "cells_clone_cut = cell_clones.query('cell_id in @select_values')  \n",
    "cells_clone_cut.index = cells_clone_cut['cell_id'].values\n",
    "# cells_clone_cut.loc['AT13696-A130854B-R48-C07',:]\n",
    "cells_clone_cut = cells_clone_cut.loc[:,['cell_id','clone_id']]"
   ]
  },
  {
   "cell_type": "code",
   "execution_count": 19,
   "id": "useful-expense",
   "metadata": {},
   "outputs": [],
   "source": [
    "# import numpy as np\n",
    "# idxs, counts = np.unique(cn_g['cell_id'], return_counts=True)\n",
    "# len(idxs) #707 g cells\n",
    "# idxs, counts = np.unique(cn_s['cell_id'], return_counts=True)\n",
    "# len(idxs) #296 s cells\n",
    "# cn_s.columns\n",
    "libary_id = 'A130854B'\n",
    "cn_s['library_id'] = np.repeat(libary_id,cn_s.shape[0])\n",
    "\n",
    "\n",
    "cn_g['library_id'] = np.repeat(libary_id,cn_g.shape[0])\n",
    "cn_g1 = pd.merge(cn_g, cells_clone_cut, on='cell_id')"
   ]
  },
  {
   "cell_type": "code",
   "execution_count": 42,
   "id": "educated-consensus",
   "metadata": {},
   "outputs": [],
   "source": [
    "# temp_cn_s = cn_s[['cell_id', 'chr', 'start', 'end', 'gc', 'state', 'library_id', 'reads']]\n",
    "temp_cn_g = cn_g1[['cell_id', 'chr', 'start', 'end', 'gc', 'state', 'library_id', 'clone_id','reads']]"
   ]
  },
  {
   "cell_type": "code",
   "execution_count": 37,
   "id": "upset-radiation",
   "metadata": {},
   "outputs": [
    {
     "data": {
      "text/plain": [
       "'state'"
      ]
     },
     "execution_count": 37,
     "metadata": {},
     "output_type": "execute_result"
    }
   ],
   "source": [
    "argv = pd.Series(['reads', 'state', 'gc','clone_id','hmmcopy'], \n",
    "                 index=['input_col','cn_col','gc_col','clone_col','cn_prior_method'])\n",
    "argv.cn_col\n",
    "# :param cn_prior_method: Method for building the cn prior concentrations. Options are 'hmmcopy', 'g1_cells', 'g1_clones', 'g1_composite', 'diploid'. (str)"
   ]
  },
  {
   "cell_type": "code",
   "execution_count": 52,
   "id": "emerging-senegal",
   "metadata": {},
   "outputs": [
    {
     "name": "stdout",
     "output_type": "stream",
     "text": [
      "creating scrt object\n"
     ]
    }
   ],
   "source": [
    "# temp_cn_s = cn_s[['cell_id', 'chr', 'start', 'end', argv.gc_col, argv.cn_col, 'library_id', argv.input_col]]\n",
    "# temp_cn_g = cn_g[['cell_id', 'chr', 'start', 'end', argv.gc_col, argv.cn_col, 'library_id', argv.clone_col, argv.input_col]]\n",
    "nb_iterations = 10 #1500\n",
    "print('creating scrt object')\n",
    "# create SPF object with input\n",
    "scrt = scRT(temp_cn_s, temp_cn_g, input_col=argv.input_col, rt_prior_col=None, assign_col=argv.cn_col,\n",
    "            cn_state_col=argv.cn_col, gc_col=argv.gc_col, cn_prior_method=argv.cn_prior_method, max_iter=nb_iterations)\n",
    "\n",
    "\n"
   ]
  },
  {
   "cell_type": "code",
   "execution_count": 53,
   "id": "dense-outline",
   "metadata": {},
   "outputs": [
    {
     "name": "stdout",
     "output_type": "stream",
     "text": [
      "running inference\n"
     ]
    },
    {
     "name": "stderr",
     "output_type": "stream",
     "text": [
      "  4211038 Loading data\n",
      "  4211039 ----------------------------------------\n"
     ]
    },
    {
     "name": "stdout",
     "output_type": "stream",
     "text": [
      "cn_s after assigning to clones\n",
      "                           cell_id chr     start       end        gc  state  \\\n",
      "0        AT13696-A130854B-R48-C09   1   2000001   2500000  0.594508      2   \n",
      "1        AT13696-A130854B-R48-C09   1   3000001   3500000  0.584572      2   \n",
      "2        AT13696-A130854B-R48-C09   1   4000001   4500000  0.482574      2   \n",
      "3        AT13696-A130854B-R48-C09   1   4500001   5000000  0.481828      2   \n",
      "4        AT13696-A130854B-R48-C09   1   5000001   5500000  0.447446      2   \n",
      "...                           ...  ..       ...       ...       ...    ...   \n",
      "1294995  AT13696-A130854B-R68-C70   Y  18000001  18500000  0.380458      0   \n",
      "1294996  AT13696-A130854B-R68-C70   Y  18500001  19000000  0.369494      0   \n",
      "1294997  AT13696-A130854B-R68-C70   Y  20500001  21000000  0.386036      0   \n",
      "1294998  AT13696-A130854B-R68-C70   Y  21000001  21500000  0.395094      0   \n",
      "1294999  AT13696-A130854B-R68-C70   Y  21500001  22000000  0.381986      0   \n",
      "\n",
      "        library_id  reads clone_id  \n",
      "0         A130854B     55        C  \n",
      "1         A130854B     31        C  \n",
      "2         A130854B     75        C  \n",
      "3         A130854B     59        C  \n",
      "4         A130854B      0        C  \n",
      "...            ...    ...      ...  \n",
      "1294995   A130854B      1        B  \n",
      "1294996   A130854B      0        B  \n",
      "1294997   A130854B      0        B  \n",
      "1294998   A130854B      0        B  \n",
      "1294999   A130854B      1        B  \n",
      "\n",
      "[1295000 rows x 9 columns]\n",
      "clone_profiles after assigning to clones\n",
      " clone_id      B  C\n",
      "chr start         \n",
      "1   2000001   1  1\n",
      "    3000001   1  1\n",
      "    4000001   1  1\n",
      "    4500001   1  1\n",
      "    5000001   1  1\n",
      "...          .. ..\n",
      "Y   18000001  0  0\n",
      "    18500001  0  0\n",
      "    20500001  0  0\n",
      "    21000001  0  0\n",
      "    21500001  0  0\n",
      "\n",
      "[4375 rows x 2 columns]\n",
      "using hmmcopy as cn_prior_method\n"
     ]
    },
    {
     "name": "stderr",
     "output_type": "stream",
     "text": [
      "  4363255 Start inference for G1-phase cells.\n",
      "/home/htran/anaconda3/envs/myPython37/lib/python3.7/site-packages/pyro/poutine/subsample_messenger.py:171: TracerWarning: Converting a tensor to a Python boolean might cause the trace to be incorrect. We can't record the data flow of Python values, so this value will be treated as a constant in the future. This means that the trace might not generalize to other inputs!\n",
      "  if len(shape) >= -dim and shape[dim] != 1:\n",
      "/home/htran/Projects/hakwoo_project/testing_methods/scdna_replication_tools/src/scdna-replication-tools/scdna_replication_tools/pert_model.py:595: TracerWarning: torch.tensor results are registered as constants in the trace. You can safely ignore this warning if you use this function to create tensors out of constant variables that would be the same every time you call this function. In any other case, this might cause the trace to be incorrect.\n",
      "  lamb = pyro.param('expose_lambda', torch.tensor([lambda_init]), constraint=constraints.interval(0.001, 0.999))\n",
      "  4365143 step: 0, loss: 25025074.0\n",
      "  4365334 step: 1, loss: 20845340.0\n",
      "  4367260 step: 2, loss: 19703950.0\n",
      "  4367501 step: 3, loss: 235999008.0\n",
      "  4367626 step: 4, loss: 22259862.0\n",
      "  4367705 step: 5, loss: 102326768.0\n",
      "  4367785 step: 6, loss: 120115072.0\n",
      "  4367872 step: 7, loss: 43301576.0\n",
      "  4367959 step: 8, loss: 20194600.0\n",
      "  4368044 step: 9, loss: 49127376.0\n",
      "/home/htran/anaconda3/envs/myPython37/lib/python3.7/site-packages/pyro/infer/discrete.py:99: UserWarning: infer_discrete found no sample sites configured for enumeration. If you want to enumerate sites, you need to @config_enumerate or set infer={\"enumerate\": \"sequential\"} or infer={\"enumerate\": \"parallel\"}.\n",
      "  \"infer_discrete found no sample sites configured for enumeration. \"\n",
      "  4374273 Start inference for S-phase cells.\n",
      "/home/htran/anaconda3/envs/myPython37/lib/python3.7/site-packages/pyro/poutine/subsample_messenger.py:171: TracerWarning: Converting a tensor to a Python boolean might cause the trace to be incorrect. We can't record the data flow of Python values, so this value will be treated as a constant in the future. This means that the trace might not generalize to other inputs!\n",
      "  if len(shape) >= -dim and shape[dim] != 1:\n",
      "/home/htran/anaconda3/envs/myPython37/lib/python3.7/site-packages/pyro/poutine/subsample_messenger.py:171: TracerWarning: Converting a tensor to a Python boolean might cause the trace to be incorrect. We can't record the data flow of Python values, so this value will be treated as a constant in the future. This means that the trace might not generalize to other inputs!\n",
      "  if len(shape) >= -dim and shape[dim] != 1:\n",
      "/home/htran/anaconda3/envs/myPython37/lib/python3.7/site-packages/pyro/poutine/subsample_messenger.py:171: TracerWarning: Converting a tensor to a Python boolean might cause the trace to be incorrect. We can't record the data flow of Python values, so this value will be treated as a constant in the future. This means that the trace might not generalize to other inputs!\n",
      "  if len(shape) >= -dim and shape[dim] != 1:\n",
      "/home/htran/anaconda3/envs/myPython37/lib/python3.7/site-packages/pyro/poutine/subsample_messenger.py:171: TracerWarning: Converting a tensor to a Python boolean might cause the trace to be incorrect. We can't record the data flow of Python values, so this value will be treated as a constant in the future. This means that the trace might not generalize to other inputs!\n",
      "  if len(shape) >= -dim and shape[dim] != 1:\n",
      "/home/htran/Projects/hakwoo_project/testing_methods/scdna_replication_tools/src/scdna-replication-tools/scdna_replication_tools/pert_model.py:492: TracerWarning: torch.tensor results are registered as constants in the trace. You can safely ignore this warning if you use this function to create tensors out of constant variables that would be the same every time you call this function. In any other case, this might cause the trace to be incorrect.\n",
      "  a = pyro.sample('expose_a', dist.Gamma(torch.tensor([2.]), torch.tensor([0.2])))\n",
      "/home/htran/Projects/hakwoo_project/testing_methods/scdna_replication_tools/src/scdna-replication-tools/scdna_replication_tools/pert_model.py:513: TracerWarning: torch.tensor results are registered as constants in the trace. You can safely ignore this warning if you use this function to create tensors out of constant variables that would be the same every time you call this function. In any other case, this might cause the trace to be incorrect.\n",
      "  rho = pyro.sample('expose_rho', dist.Beta(torch.tensor([1.]), torch.tensor([1.])))\n",
      "  4379434 step: 0, loss: 3320462966784.0\n",
      "  4381210 step: 1, loss: 3197033250816.0\n",
      "  4386033 step: 2, loss: 3085657964544.0\n",
      "  4388144 step: 3, loss: 2969693585408.0\n",
      "  4389777 step: 4, loss: 2847023824896.0\n",
      "  4391397 step: 5, loss: 2741270216704.0\n",
      "  4393017 step: 6, loss: 2627610869760.0\n",
      "  4394644 step: 7, loss: 2517539225600.0\n",
      "  4396261 step: 8, loss: 2403906879488.0\n",
      "  4397870 step: 9, loss: 2295582687232.0\n",
      "  4578740 Running pre-trained S-phase model on cells initially labeled as G1/2-phase.\n",
      "/home/htran/anaconda3/envs/myPython37/lib/python3.7/site-packages/pyro/poutine/subsample_messenger.py:171: TracerWarning: Converting a tensor to a Python boolean might cause the trace to be incorrect. We can't record the data flow of Python values, so this value will be treated as a constant in the future. This means that the trace might not generalize to other inputs!\n",
      "  if len(shape) >= -dim and shape[dim] != 1:\n",
      "/home/htran/anaconda3/envs/myPython37/lib/python3.7/site-packages/pyro/poutine/subsample_messenger.py:171: TracerWarning: Converting a tensor to a Python boolean might cause the trace to be incorrect. We can't record the data flow of Python values, so this value will be treated as a constant in the future. This means that the trace might not generalize to other inputs!\n",
      "  if len(shape) >= -dim and shape[dim] != 1:\n",
      "/home/htran/anaconda3/envs/myPython37/lib/python3.7/site-packages/pyro/poutine/subsample_messenger.py:171: TracerWarning: Converting a tensor to a Python boolean might cause the trace to be incorrect. We can't record the data flow of Python values, so this value will be treated as a constant in the future. This means that the trace might not generalize to other inputs!\n",
      "  if len(shape) >= -dim and shape[dim] != 1:\n",
      "/home/htran/Projects/hakwoo_project/testing_methods/scdna_replication_tools/src/scdna-replication-tools/scdna_replication_tools/pert_model.py:492: TracerWarning: torch.tensor results are registered as constants in the trace. You can safely ignore this warning if you use this function to create tensors out of constant variables that would be the same every time you call this function. In any other case, this might cause the trace to be incorrect.\n",
      "  a = pyro.sample('expose_a', dist.Gamma(torch.tensor([2.]), torch.tensor([0.2])))\n",
      "/home/htran/Projects/hakwoo_project/testing_methods/scdna_replication_tools/src/scdna-replication-tools/scdna_replication_tools/pert_model.py:513: TracerWarning: torch.tensor results are registered as constants in the trace. You can safely ignore this warning if you use this function to create tensors out of constant variables that would be the same every time you call this function. In any other case, this might cause the trace to be incorrect.\n",
      "  rho = pyro.sample('expose_rho', dist.Beta(torch.tensor([1.]), torch.tensor([1.])))\n",
      "  4590194 step: 0, loss: 7916309970944.0\n",
      "  4594202 step: 1, loss: 7659080122368.0\n",
      "  4601015 step: 2, loss: 7345959075840.0\n",
      "  4605530 step: 3, loss: 7094182871040.0\n",
      "  4609492 step: 4, loss: 6830533640192.0\n"
     ]
    }
   ],
   "source": [
    "# run inference\n",
    "print('running inference')\n",
    "cn_s_with_scrt, supp_s_output, cn_g_with_scrt, supp_g_output = scrt.infer_pyro_model()\n"
   ]
  },
  {
   "cell_type": "code",
   "execution_count": 47,
   "id": "several-stanley",
   "metadata": {},
   "outputs": [],
   "source": [
    "import sklearn.cluster"
   ]
  },
  {
   "cell_type": "code",
   "execution_count": 48,
   "id": "conventional-slovak",
   "metadata": {},
   "outputs": [],
   "source": [
    "from scdna_replication_tools.compute_consensus_clone_profiles import compute_consensus_clone_profiles\n",
    "from scdna_replication_tools.assign_s_to_clones import assign_s_to_clones\n",
    "from scdna_replication_tools.bulk_gc_correction import bulk_g1_gc_correction\n",
    "from scdna_replication_tools.normalize_by_cell import normalize_by_cell\n",
    "from scdna_replication_tools.normalize_by_clone import normalize_by_clone\n",
    "from scdna_replication_tools.binarize_rt_profiles import binarize_profiles\n",
    "from scdna_replication_tools.compute_pseudobulk_rt_profiles import compute_pseudobulk_rt_profiles\n",
    "from scdna_replication_tools.calculate_twidth import compute_time_from_scheduled_column, calculate_twidth\n",
    "# from scdna_replication_tools.cncluster import kmeans_cluster\n",
    "from scdna_replication_tools.pert_model import pyro_infer_scRT\n",
    "from argparse import ArgumentParser\n"
   ]
  },
  {
   "cell_type": "code",
   "execution_count": 49,
   "id": "vocational-microphone",
   "metadata": {},
   "outputs": [],
   "source": [
    "from scdna_replication_tools.cncluster import kmeans_cluster"
   ]
  },
  {
   "cell_type": "code",
   "execution_count": 51,
   "id": "innovative-uruguay",
   "metadata": {},
   "outputs": [],
   "source": [
    "from scdna_replication_tools.infer_scRT import scRT"
   ]
  },
  {
   "cell_type": "code",
   "execution_count": 60,
   "id": "addressed-rescue",
   "metadata": {},
   "outputs": [
    {
     "name": "stdout",
     "output_type": "stream",
     "text": [
      "(1295000, 14)\n"
     ]
    },
    {
     "data": {
      "text/plain": [
       "Index(['cell_id', 'chr', 'start', 'end', 'gc', 'state', 'library_id', 'reads',\n",
       "       'clone_id', 'model_cn_state', 'model_rep_state', 'model_tau', 'model_u',\n",
       "       'model_rho'],\n",
       "      dtype='object')"
      ]
     },
     "execution_count": 60,
     "metadata": {},
     "output_type": "execute_result"
    }
   ],
   "source": [
    "print(cn_s_with_scrt.shape)\n",
    "# print(cn_s_with_scrt.__class__)\n",
    "cn_s_with_scrt.columns"
   ]
  },
  {
   "cell_type": "code",
   "execution_count": 61,
   "id": "impressive-hudson",
   "metadata": {},
   "outputs": [],
   "source": [
    "# cn_s_with_scrt, supp_s_output, cn_g_with_scrt, supp_g_output\n",
    "cn_s_with_scrt.to_csv(os.path.join(input_dir,'RT_results/cn_s_with_scrt.csv.gz'))\n",
    "supp_s_output.to_csv(os.path.join(input_dir,'RT_results/supp_s_output.csv.gz'))\n",
    "cn_g_with_scrt.to_csv(os.path.join(input_dir,'RT_results/cn_g_with_scrt.csv.gz'))\n",
    "supp_g_output.to_csv(os.path.join(input_dir,'RT_results/supp_g_output.csv.gz'))"
   ]
  },
  {
   "cell_type": "code",
   "execution_count": 91,
   "id": "controlling-chile",
   "metadata": {},
   "outputs": [],
   "source": [
    "# import pandas as pd\n",
    "# import numpy as np\n",
    "import statsmodels.api as sm\n",
    "from argparse import ArgumentParser\n",
    "def autocorr(data, min_lag=10, max_lag=50):\n",
    "    acorr = sm.tsa.acf(data, nlags=max_lag)\n",
    "    return np.mean(acorr[min_lag-1:])\n",
    "\n",
    "\n",
    "def breakpoints(data):\n",
    "    temp_diff = np.diff(data)\n",
    "    return sum(np.where(temp_diff!=0, 1, 0))\n",
    "\n",
    "\n",
    "def compute_cell_frac(cn, frac_rt_col='cell_frac_rep', rep_state_col='model_rep_state'):\n",
    "    ''' Compute the fraction of replicated bins for all cells in `cn`, noting which cells have extreme values. '''\n",
    "    cn['extreme_cell_frac'] = False\n",
    "    for cell_id, cell_cn in cn.groupby('cell_id'):\n",
    "        temp_rep = cell_cn[rep_state_col].values\n",
    "        temp_frac = sum(temp_rep) / len(temp_rep)\n",
    "        cn.loc[cell_cn.index, frac_rt_col] = temp_frac\n",
    "\n",
    "        if temp_frac > 0.95 or temp_frac < 0.05:\n",
    "            cn.loc[cell_cn.index, 'extreme_cell_frac'] = True\n",
    "    return cn\n",
    "\n",
    "\n",
    "def compute_cell_frac_v2(cn, frac_rt_col='cell_frac_rep', rep_state_col='model_rep_state'):\n",
    "    ''' Compute the fraction of replicated bins for all cells in `cn`, noting which cells have extreme values. '''\n",
    "    cn['extreme_cell_frac'] = False\n",
    "    cell_metrics = []\n",
    "    for cell_id, cell_cn in cn.groupby('cell_id'):\n",
    "        temp_rep = cell_cn[rep_state_col].values\n",
    "        temp_frac = sum(temp_rep) / len(temp_rep)\n",
    "        cn.loc[cell_cn.index, frac_rt_col] = temp_frac\n",
    "\n",
    "        if temp_frac > 0.95 or temp_frac < 0.05:\n",
    "            cn.loc[cell_cn.index, 'extreme_cell_frac'] = True\n",
    "         \n",
    "        temp_df = pd.DataFrame({\n",
    "            'cell_id': [cell_id], 'cell_frac_rep': temp_frac\n",
    "        })\n",
    "        cell_metrics.append(temp_df)\n",
    "\n",
    "    cell_metrics = pd.concat(cell_metrics, ignore_index=True)\n",
    "#     return cn\n",
    "\n",
    "    return cell_metrics\n",
    "\n",
    "\n",
    "\n",
    "\n",
    "def remove_nonreplicating_cells(cn, frac_rt_col='cell_frac_rep'):\n",
    "    # use extreme_cell_frac status and cell cycle classifier features to nominate \"bad\" non-replicating cells\n",
    "    extreme_cells = cn.loc[(cn['extreme_cell_frac']==True)]\n",
    "    # bad_cells_df = extreme_cells.loc[(extreme_cells['corrected_breakpoints']<0.0) | (extreme_cells['corrected_madn']<0.0)]\n",
    "    # bad_cells = bad_cells_df.cell_id.unique()\n",
    "    bad_cells = extreme_cells.cell_id.unique()\n",
    "\n",
    "    cn_good = cn[~cn['cell_id'].isin(bad_cells)].reset_index(drop=True)\n",
    "    cn_bad = cn[cn['cell_id'].isin(bad_cells)].reset_index(drop=True)\n",
    "\n",
    "    return cn_good, cn_bad\n",
    "\n",
    "\n",
    "def compute_quality_features(cn, rep_state_col='model_rep_state', cn_state_col='model_cn_state', rpm_col='rpm'):\n",
    "    cell_metrics = []\n",
    "    for cell_id, cell_cn in cn.groupby('cell_id'):\n",
    "        # compute read depth autocorrelation\n",
    "        rpm_auto = autocorr(cell_cn[rpm_col].values)\n",
    "        # compute replication state autocorrelation\n",
    "        rep_auto = autocorr(cell_cn[rep_state_col].values)\n",
    "        # compute number of breakpoints for inferred CN\n",
    "        cn_bk = breakpoints(cell_cn[cn_state_col].values)\n",
    "        # compute number of breakpoints for inferred rep states\n",
    "        rep_bk = breakpoints(cell_cn[rep_state_col].values)\n",
    "        # compute fraction of genome with inferred CN=0\n",
    "        frac_cn0 = sum(cell_cn[cn_state_col]==0) / cell_cn.shape[0]\n",
    "\n",
    "        temp_df = pd.DataFrame({\n",
    "            'cell_id': [cell_id], 'rpm_auto': [rpm_auto], 'rep_auto': [rep_auto],\n",
    "            'cn_bk': [cn_bk], 'rep_bk': [rep_bk], 'frac_cn0': [frac_cn0]\n",
    "        })\n",
    "        cell_metrics.append(temp_df)\n",
    "\n",
    "    cell_metrics = pd.concat(cell_metrics, ignore_index=True)\n",
    "    \n",
    "    # normalize autocorrelations by mean values\n",
    "    rpm_auto_mean = np.mean(cell_metrics['rpm_auto'].values)\n",
    "    cell_metrics['rpm_auto_norm'] = cell_metrics['rpm_auto'] - rpm_auto_mean\n",
    "    rep_auto_mean = np.mean(cell_metrics['rep_auto'].values)\n",
    "    cell_metrics['rep_auto_norm'] = cell_metrics['rep_auto'] - rep_auto_mean\n",
    "\n",
    "    # merge quality features into cn\n",
    "    cn = pd.merge(cn, cell_metrics)\n",
    "    \n",
    "#     return cn\n",
    "    return cell_metrics\n",
    "\n",
    "\n",
    "def remove_low_quality_cells(cn):\n",
    "    # set thresholds on which cells are high or low quality\n",
    "    # note that this thresholding takes place after removing cells with extreme fractions of replicated bins\n",
    "    low_qual_cells = cn.loc[(cn['rpm_auto']>0.5) | (cn['rep_auto']>0.2) | (cn['frac_cn0']>0.05)].cell_id.unique()\n",
    "\n",
    "    cn_good = cn[~cn['cell_id'].isin(low_qual_cells)].reset_index(drop=True)\n",
    "    cn_bad = cn[cn['cell_id'].isin(low_qual_cells)].reset_index(drop=True)\n",
    "\n",
    "    return cn_good, cn_bad\n",
    "\n"
   ]
  },
  {
   "cell_type": "code",
   "execution_count": 64,
   "id": "accessory-label",
   "metadata": {},
   "outputs": [
    {
     "data": {
      "text/plain": [
       "Index(['cell_id', 'chr', 'start', 'end', 'gc', 'state', 'library_id', 'reads',\n",
       "       'clone_id', 'model_cn_state', 'model_rep_state', 'model_tau', 'model_u',\n",
       "       'model_rho'],\n",
       "      dtype='object')"
      ]
     },
     "execution_count": 64,
     "metadata": {},
     "output_type": "execute_result"
    }
   ],
   "source": [
    "cn_s_with_scrt.columns"
   ]
  },
  {
   "cell_type": "code",
   "execution_count": 65,
   "id": "irish-function",
   "metadata": {},
   "outputs": [
    {
     "data": {
      "text/html": [
       "<div>\n",
       "<style scoped>\n",
       "    .dataframe tbody tr th:only-of-type {\n",
       "        vertical-align: middle;\n",
       "    }\n",
       "\n",
       "    .dataframe tbody tr th {\n",
       "        vertical-align: top;\n",
       "    }\n",
       "\n",
       "    .dataframe thead th {\n",
       "        text-align: right;\n",
       "    }\n",
       "</style>\n",
       "<table border=\"1\" class=\"dataframe\">\n",
       "  <thead>\n",
       "    <tr style=\"text-align: right;\">\n",
       "      <th></th>\n",
       "      <th>cell_id</th>\n",
       "      <th>chr</th>\n",
       "      <th>start</th>\n",
       "      <th>end</th>\n",
       "      <th>gc</th>\n",
       "      <th>state</th>\n",
       "      <th>library_id</th>\n",
       "      <th>reads</th>\n",
       "      <th>clone_id</th>\n",
       "      <th>model_cn_state</th>\n",
       "      <th>model_rep_state</th>\n",
       "      <th>model_tau</th>\n",
       "      <th>model_u</th>\n",
       "      <th>model_rho</th>\n",
       "    </tr>\n",
       "  </thead>\n",
       "  <tbody>\n",
       "    <tr>\n",
       "      <th>0</th>\n",
       "      <td>AT13696-A130854B-R48-C09</td>\n",
       "      <td>1</td>\n",
       "      <td>2000001</td>\n",
       "      <td>2500000</td>\n",
       "      <td>0.594508</td>\n",
       "      <td>2</td>\n",
       "      <td>A130854B</td>\n",
       "      <td>55</td>\n",
       "      <td>C</td>\n",
       "      <td>2</td>\n",
       "      <td>0.0</td>\n",
       "      <td>0.109919</td>\n",
       "      <td>31.623632</td>\n",
       "      <td>0.528842</td>\n",
       "    </tr>\n",
       "    <tr>\n",
       "      <th>1</th>\n",
       "      <td>AT13696-A130854B-R48-C10</td>\n",
       "      <td>1</td>\n",
       "      <td>2000001</td>\n",
       "      <td>2500000</td>\n",
       "      <td>0.594508</td>\n",
       "      <td>1</td>\n",
       "      <td>A130854B</td>\n",
       "      <td>33</td>\n",
       "      <td>C</td>\n",
       "      <td>3</td>\n",
       "      <td>0.0</td>\n",
       "      <td>0.381491</td>\n",
       "      <td>17.580654</td>\n",
       "      <td>0.528842</td>\n",
       "    </tr>\n",
       "    <tr>\n",
       "      <th>2</th>\n",
       "      <td>AT13696-A130854B-R48-C14</td>\n",
       "      <td>1</td>\n",
       "      <td>2000001</td>\n",
       "      <td>2500000</td>\n",
       "      <td>0.594508</td>\n",
       "      <td>1</td>\n",
       "      <td>A130854B</td>\n",
       "      <td>7</td>\n",
       "      <td>C</td>\n",
       "      <td>3</td>\n",
       "      <td>0.0</td>\n",
       "      <td>0.362707</td>\n",
       "      <td>3.382090</td>\n",
       "      <td>0.528842</td>\n",
       "    </tr>\n",
       "  </tbody>\n",
       "</table>\n",
       "</div>"
      ],
      "text/plain": [
       "                    cell_id chr    start      end        gc  state library_id  \\\n",
       "0  AT13696-A130854B-R48-C09   1  2000001  2500000  0.594508      2   A130854B   \n",
       "1  AT13696-A130854B-R48-C10   1  2000001  2500000  0.594508      1   A130854B   \n",
       "2  AT13696-A130854B-R48-C14   1  2000001  2500000  0.594508      1   A130854B   \n",
       "\n",
       "   reads clone_id  model_cn_state  model_rep_state  model_tau    model_u  \\\n",
       "0     55        C               2              0.0   0.109919  31.623632   \n",
       "1     33        C               3              0.0   0.381491  17.580654   \n",
       "2      7        C               3              0.0   0.362707   3.382090   \n",
       "\n",
       "   model_rho  \n",
       "0   0.528842  \n",
       "1   0.528842  \n",
       "2   0.528842  "
      ]
     },
     "execution_count": 65,
     "metadata": {},
     "output_type": "execute_result"
    }
   ],
   "source": [
    "cn_s_with_scrt.head(3)"
   ]
  },
  {
   "cell_type": "code",
   "execution_count": 66,
   "id": "quick-junction",
   "metadata": {},
   "outputs": [],
   "source": [
    "argv = pd.Series(['reads', 'state', 'gc','clone_id','hmmcopy',\n",
    "                 'model_cn_state','model_rep_state','reads'], \n",
    "                 index=['input_col','cn_col','gc_col','clone_col','cn_prior_method',\n",
    "                       'frac_rt_col','rep_col','rpm_col'])\n",
    "\n",
    "# p.add_argument('frac_rt_col', type=str, help='column name for the fraction of replicated bins in a cell')\n",
    "#     p.add_argument('rep_col', type=str, help='column name for replicated status of each bin in pyro model')\n",
    "#     p.add_argument('cn_col', type=str, help='column name for inferred cn state of each bin in pyro model')\n",
    "#     p.add_argument('rpm_col', type=str, help='column name for reads per million')\n",
    "#     p.add_argument('output_s', type=str, help='pyro model for s-phase cells after filtering')\n",
    "#     p.add_argument('output_g', type=str, help='pyro model results for nonreplicating cells that get removed')\n",
    "#     p.add_argument('output_lowqual', type=str, help='pyro model results for low quality cells that get removed')\n"
   ]
  },
  {
   "cell_type": "code",
   "execution_count": 75,
   "id": "guilty-python",
   "metadata": {},
   "outputs": [
    {
     "name": "stderr",
     "output_type": "stream",
     "text": [
      "/home/htran/anaconda3/envs/myPython37/lib/python3.7/site-packages/statsmodels/tsa/stattools.py:671: FutureWarning: fft=True will become the default after the release of the 0.12 release of statsmodels. To suppress this warning, explicitly set fft=False.\n",
      "  FutureWarning,\n",
      "/home/htran/anaconda3/envs/myPython37/lib/python3.7/site-packages/statsmodels/tsa/stattools.py:677: RuntimeWarning: invalid value encountered in true_divide\n",
      "  acf = avf[: nlags + 1] / avf[0]\n"
     ]
    }
   ],
   "source": [
    "cn = pd.concat([cn_s_with_scrt, cn_g_with_scrt], ignore_index=True)\n",
    "\n",
    "# compute the fraction of replicated bins within each cell\n",
    "# cn = compute_cell_frac(cn, frac_rt_col=argv.frac_rt_col, rep_state_col=argv.rep_col)\n",
    "\n",
    "# compute autocorrelation features to see which cells are truly low quality\n",
    "cell_metrics = compute_quality_features(cn,  rpm_col=argv.rpm_col) #rep_state_col=argv.rep_col, cn_state_col=argv.cn_col,\n"
   ]
  },
  {
   "cell_type": "code",
   "execution_count": 97,
   "id": "compressed-disclosure",
   "metadata": {},
   "outputs": [],
   "source": [
    "cell_metrics_RT_frac = compute_cell_frac_v2(cn, frac_rt_col='cell_frac_rep', rep_state_col='model_rep_state')"
   ]
  },
  {
   "cell_type": "code",
   "execution_count": 77,
   "id": "innocent-insight",
   "metadata": {},
   "outputs": [
    {
     "data": {
      "text/html": [
       "<div>\n",
       "<style scoped>\n",
       "    .dataframe tbody tr th:only-of-type {\n",
       "        vertical-align: middle;\n",
       "    }\n",
       "\n",
       "    .dataframe tbody tr th {\n",
       "        vertical-align: top;\n",
       "    }\n",
       "\n",
       "    .dataframe thead th {\n",
       "        text-align: right;\n",
       "    }\n",
       "</style>\n",
       "<table border=\"1\" class=\"dataframe\">\n",
       "  <thead>\n",
       "    <tr style=\"text-align: right;\">\n",
       "      <th></th>\n",
       "      <th>cell_id</th>\n",
       "      <th>rpm_auto</th>\n",
       "      <th>rep_auto</th>\n",
       "      <th>cn_bk</th>\n",
       "      <th>rep_bk</th>\n",
       "      <th>frac_cn0</th>\n",
       "      <th>rpm_auto_norm</th>\n",
       "      <th>rep_auto_norm</th>\n",
       "    </tr>\n",
       "  </thead>\n",
       "  <tbody>\n",
       "    <tr>\n",
       "      <th>0</th>\n",
       "      <td>AT13696-A130854B-R48-C07</td>\n",
       "      <td>0.486637</td>\n",
       "      <td>0.011834</td>\n",
       "      <td>3031</td>\n",
       "      <td>454</td>\n",
       "      <td>0.004800</td>\n",
       "      <td>0.011259</td>\n",
       "      <td>NaN</td>\n",
       "    </tr>\n",
       "    <tr>\n",
       "      <th>1</th>\n",
       "      <td>AT13696-A130854B-R48-C08</td>\n",
       "      <td>0.487502</td>\n",
       "      <td>0.018834</td>\n",
       "      <td>3176</td>\n",
       "      <td>660</td>\n",
       "      <td>0.005257</td>\n",
       "      <td>0.012125</td>\n",
       "      <td>NaN</td>\n",
       "    </tr>\n",
       "    <tr>\n",
       "      <th>2</th>\n",
       "      <td>AT13696-A130854B-R48-C09</td>\n",
       "      <td>0.389019</td>\n",
       "      <td>-0.001152</td>\n",
       "      <td>3037</td>\n",
       "      <td>6</td>\n",
       "      <td>0.024000</td>\n",
       "      <td>-0.086359</td>\n",
       "      <td>NaN</td>\n",
       "    </tr>\n",
       "  </tbody>\n",
       "</table>\n",
       "</div>"
      ],
      "text/plain": [
       "                    cell_id  rpm_auto  rep_auto  cn_bk  rep_bk  frac_cn0  \\\n",
       "0  AT13696-A130854B-R48-C07  0.486637  0.011834   3031     454  0.004800   \n",
       "1  AT13696-A130854B-R48-C08  0.487502  0.018834   3176     660  0.005257   \n",
       "2  AT13696-A130854B-R48-C09  0.389019 -0.001152   3037       6  0.024000   \n",
       "\n",
       "   rpm_auto_norm  rep_auto_norm  \n",
       "0       0.011259            NaN  \n",
       "1       0.012125            NaN  \n",
       "2      -0.086359            NaN  "
      ]
     },
     "execution_count": 77,
     "metadata": {},
     "output_type": "execute_result"
    }
   ],
   "source": [
    "cell_metrics.shape\n",
    "# cn.columns\n",
    "cell_metrics.head(3)"
   ]
  },
  {
   "cell_type": "code",
   "execution_count": 86,
   "id": "operational-private",
   "metadata": {},
   "outputs": [
    {
     "data": {
      "text/plain": [
       "(1003, 10)"
      ]
     },
     "execution_count": 86,
     "metadata": {},
     "output_type": "execute_result"
    }
   ],
   "source": [
    "cell_clones = cell_clones.loc[:,['cell_id','clone_id','cell_type_status']]\n",
    "cell_metrics1 = pd.merge(cell_metrics, cell_clones, on='cell_id')\n",
    "cell_metrics1.shape\n",
    "# cell_clones.shape"
   ]
  },
  {
   "cell_type": "code",
   "execution_count": 100,
   "id": "finite-table",
   "metadata": {},
   "outputs": [
    {
     "data": {
      "text/plain": [
       "Index(['cell_id', 'cell_frac_rep', 'clone_id', 'cell_type_status'], dtype='object')"
      ]
     },
     "execution_count": 100,
     "metadata": {},
     "output_type": "execute_result"
    }
   ],
   "source": [
    "cell_metrics_RT_frac = pd.merge(cell_metrics_RT_frac, cell_clones, on='cell_id')\n",
    "cell_metrics_RT_frac.shape\n",
    "cell_metrics_RT_frac.columns"
   ]
  },
  {
   "cell_type": "code",
   "execution_count": 90,
   "id": "developed-improvement",
   "metadata": {},
   "outputs": [
    {
     "data": {
      "text/plain": [
       "<AxesSubplot:xlabel='rep_bk', ylabel='cell_type_status'>"
      ]
     },
     "execution_count": 90,
     "metadata": {},
     "output_type": "execute_result"
    },
    {
     "data": {
      "image/png": "[encoded data removed]",
      "text/plain": [
       "<Figure size 640x480 with 1 Axes>"
      ]
     },
     "metadata": {},
     "output_type": "display_data"
    }
   ],
   "source": [
    "import seaborn as sns\n",
    "sns.boxplot(data=cell_metrics1, x=\"rep_bk\", y=\"cell_type_status\", hue=\"clone_id\") #\"rep_auto\""
   ]
  },
  {
   "cell_type": "code",
   "execution_count": 103,
   "id": "sharing-executive",
   "metadata": {},
   "outputs": [
    {
     "data": {
      "text/plain": [
       "<matplotlib.lines.Line2D at 0x7fcbb6923e10>"
      ]
     },
     "execution_count": 103,
     "metadata": {},
     "output_type": "execute_result"
    },
    {
     "data": {
      "image/png": "[encoded data removed]",
      "text/plain": [
       "<Figure size 640x480 with 1 Axes>"
      ]
     },
     "metadata": {},
     "output_type": "display_data"
    }
   ],
   "source": [
    "import seaborn as sns\n",
    "p = sns.boxplot(data=cell_metrics_RT_frac, x=\"cell_frac_rep\", y=\"cell_type_status\", hue=\"clone_id\") #\"rep_auto\"\n",
    "p.axvline(0.025)\n",
    "p.axvline(0.2)"
   ]
  },
  {
   "cell_type": "code",
   "execution_count": null,
   "id": "eligible-aircraft",
   "metadata": {},
   "outputs": [],
   "source": []
  }
 ],
 "metadata": {
  "kernelspec": {
   "display_name": "myPython37",
   "language": "python",
   "name": "mypython37"
  },
  "language_info": {
   "codemirror_mode": {
    "name": "ipython",
    "version": 3
   },
   "file_extension": ".py",
   "mimetype": "text/x-python",
   "name": "python",
   "nbconvert_exporter": "python",
   "pygments_lexer": "ipython3",
   "version": "3.7.12"
  }
 },
 "nbformat": 4,
 "nbformat_minor": 5
}
