{
 "cells": [
  {
   "cell_type": "code",
   "execution_count": 1,
   "id": "persistent-fields",
   "metadata": {},
   "outputs": [],
   "source": [
    "import numpy as np\n",
    "import pandas as pd\n",
    "import os\n",
    "import re\n",
    "from datetime import datetime\n",
    "from argparse import ArgumentParser\n",
    "import statsmodels.api as sm\n",
    "import logging\n",
    "import matplotlib\n",
    "import matplotlib.pyplot as plt\n",
    "import seaborn as sns\n",
    "\n",
    "## utility functions\n",
    "import RT_stat_utils"
   ]
  },
  {
   "cell_type": "code",
   "execution_count": 2,
   "id": "stuffed-mediterranean",
   "metadata": {},
   "outputs": [],
   "source": [
    "def summary_results(output_dir, datatag, cn_g_with_scrt, cn_s_with_scrt, cell_clones, argv=None):\n",
    "    \n",
    "    argv=None\n",
    "    if argv==None:  # columns names definition\n",
    "            argv = pd.Series(['reads', 'state', 'gc','clone_id','hmmcopy',\n",
    "                     'model_cn_state','model_rep_state','reads'], \n",
    "                     index=['input_col','cn_col','gc_col','clone_col','cn_prior_method',\n",
    "                           'frac_rt_col','rep_col','rpm_col'])\n",
    "\n",
    "    \n",
    "    cn = pd.concat([cn_s_with_scrt, cn_g_with_scrt], ignore_index=True)\n",
    "\n",
    "    # compute the fraction of replicated bins within each cell\n",
    "    # cn = compute_cell_frac(cn, frac_rt_col=argv.frac_rt_col, rep_state_col=argv.rep_col)\n",
    "\n",
    "    # compute autocorrelation features to see which cells are truly low quality\n",
    "    cell_metrics = RT_stat_utils.compute_quality_features(cn,  rpm_col=argv.rpm_col) #rep_state_col=argv.rep_col, cn_state_col=argv.cn_col,\n",
    "    cell_metrics_RT_frac = RT_stat_utils.compute_cell_frac_v2(cn, frac_rt_col='cell_frac_rep', rep_state_col='model_rep_state')\n",
    "    # cell_clones = cell_clones.loc[:,['cell_id','clone_id','cell_type_status']] #,'cell_type_status'\n",
    "    \n",
    "    # cell_metrics.to_csv(os.path.join(output_dir, datatag+'_RT_cell_metrics.csv.gz'), index=False)\n",
    "    # cell_metrics_RT_frac.to_csv(os.path.join(output_dir, datatag+'_RT_cell_metrics_RT_frac.csv.gz'), index=False)\n",
    "    print('Save summary results into output dir: {0}'.format(output_dir))\n",
    "    \n",
    "    cell_metrics = pd.merge(cell_metrics, cell_clones, on='cell_id')\n",
    "    cell_metrics_RT_frac = pd.merge(cell_metrics_RT_frac, cell_clones, on='cell_id')\n",
    "    cell_metrics.to_csv(os.path.join(output_dir, datatag+'_RT_cell_metrics_clones.csv.gz'), index=False)\n",
    "    cell_metrics_RT_frac.to_csv(os.path.join(output_dir, datatag+'_RT_cell_metrics_RT_frac_clones.csv.gz'), index=False)\n",
    "    \n",
    "    p = sns.boxplot(data=cell_metrics, x=\"rep_bk\", y=\"cell_type_status\", hue=\"clone_id\") #\"rep_auto\"\n",
    "    plt.legend(bbox_to_anchor=(1.02, 1), loc='upper left', borderaxespad=5)\n",
    "    outname = os.path.join(output_dir, datatag + '_rep_bk.png') \n",
    "    plt.savefig(outname, dpi=150)\n",
    "    plt.close()    \n",
    "\n",
    "    p1 = sns.boxplot(data=cell_metrics_RT_frac, x=\"cell_frac_rep\", y=\"cell_type_status\", hue=\"clone_id\") #\"rep_auto\"\n",
    "    p1.axvline(0.05)\n",
    "    p1.axvline(0.95)\n",
    "    plt.legend(bbox_to_anchor=(1.02, 1), loc='upper left', borderaxespad=5)\n",
    "    outname1 = os.path.join(output_dir, datatag + '_cell_frac_rep.png') \n",
    "    plt.savefig(outname1, dpi=150)\n",
    "    plt.close()   \n",
    "\n"
   ]
  },
  {
   "cell_type": "code",
   "execution_count": 3,
   "id": "lined-accent",
   "metadata": {},
   "outputs": [],
   "source": [
    "def load_data(sid, results_dir, argv=None):\n",
    "    cell_clones_fn = os.path.join(results_dir,sid+'_clonal_RT.csv.gz')\n",
    "    input_gfn = os.path.join(results_dir,sid+'_cn_g_with_scrt.csv.gz')\n",
    "    input_sfn = os.path.join(results_dir,sid+'_cn_s_with_scrt.csv.gz')\n",
    "    \n",
    "    cn_g_with_scrt = pd.read_csv(input_gfn,compression='gzip')\n",
    "    cn_s_with_scrt = pd.read_csv(input_sfn,compression='gzip')\n",
    "    print('G cells: ')\n",
    "    print(cn_g_with_scrt.shape)\n",
    "    print('S cells: ')\n",
    "    print(cn_s_with_scrt.shape)\n",
    "#     cell_clones_fn = os.path.join(input_dir, 'RT_input/A130854B_filtered_cell_clones.csv') \n",
    "    cell_clones = pd.read_csv(cell_clones_fn,compression='gzip')\n",
    "    print('Cell clones file: ')\n",
    "    print(cell_clones.columns)\n",
    "    print(cell_clones.shape)\n",
    "    \n",
    "    datatag=sid\n",
    "    summary_results(results_dir, datatag, cn_g_with_scrt, cn_s_with_scrt, cell_clones)                 \n",
    "                     "
   ]
  },
  {
   "cell_type": "code",
   "execution_count": 4,
   "id": "entire-ireland",
   "metadata": {},
   "outputs": [
    {
     "name": "stderr",
     "output_type": "stream",
     "text": [
      "/home/htran/anaconda3/envs/myPython37/lib/python3.7/site-packages/ipykernel_launcher.py:5: DtypeWarning: Columns (1) have mixed types.Specify dtype option on import or set low_memory=False.\n",
      "  \"\"\"\n"
     ]
    },
    {
     "name": "stdout",
     "output_type": "stream",
     "text": [
      "G cells: \n",
      "(3940810, 14)\n",
      "S cells: \n",
      "(1303260, 14)\n",
      "Cell clones file: \n",
      "Index(['cell_id', 'clone_id', 'library_id', 'cell_type_status'], dtype='object')\n",
      "(845, 4)\n"
     ]
    },
    {
     "name": "stderr",
     "output_type": "stream",
     "text": [
      "/home/htran/anaconda3/envs/myPython37/lib/python3.7/site-packages/statsmodels/tsa/stattools.py:671: FutureWarning: fft=True will become the default after the release of the 0.12 release of statsmodels. To suppress this warning, explicitly set fft=False.\n",
      "  FutureWarning,\n"
     ]
    },
    {
     "name": "stdout",
     "output_type": "stream",
     "text": [
      "Save summary results into output dir: /home/htran/storage/datasets/metastasis_results/replication_timing/RT_results/\n"
     ]
    },
    {
     "name": "stderr",
     "output_type": "stream",
     "text": [
      "/home/htran/anaconda3/envs/myPython37/lib/python3.7/site-packages/ipykernel_launcher.py:5: DtypeWarning: Columns (1) have mixed types.Specify dtype option on import or set low_memory=False.\n",
      "  \"\"\"\n"
     ]
    },
    {
     "name": "stdout",
     "output_type": "stream",
     "text": [
      "G cells: \n",
      "(1386875, 14)\n",
      "S cells: \n",
      "(612500, 14)\n",
      "Cell clones file: \n",
      "Index(['cell_id', 'clone_id', 'library_id', 'cell_type_status'], dtype='object')\n",
      "(457, 4)\n"
     ]
    },
    {
     "name": "stderr",
     "output_type": "stream",
     "text": [
      "/home/htran/anaconda3/envs/myPython37/lib/python3.7/site-packages/statsmodels/tsa/stattools.py:671: FutureWarning: fft=True will become the default after the release of the 0.12 release of statsmodels. To suppress this warning, explicitly set fft=False.\n",
      "  FutureWarning,\n"
     ]
    },
    {
     "name": "stdout",
     "output_type": "stream",
     "text": [
      "Save summary results into output dir: /home/htran/storage/datasets/metastasis_results/replication_timing/RT_results/\n"
     ]
    },
    {
     "name": "stderr",
     "output_type": "stream",
     "text": [
      "/home/htran/anaconda3/envs/myPython37/lib/python3.7/site-packages/ipykernel_launcher.py:5: DtypeWarning: Columns (1) have mixed types.Specify dtype option on import or set low_memory=False.\n",
      "  \"\"\"\n"
     ]
    },
    {
     "name": "stdout",
     "output_type": "stream",
     "text": [
      "G cells: \n",
      "(1688032, 14)\n",
      "S cells: \n",
      "(2451370, 14)\n",
      "Cell clones file: \n",
      "Index(['cell_id', 'clone_id', 'library_id', 'cell_type_status'], dtype='object')\n",
      "(667, 4)\n"
     ]
    },
    {
     "name": "stderr",
     "output_type": "stream",
     "text": [
      "/home/htran/anaconda3/envs/myPython37/lib/python3.7/site-packages/statsmodels/tsa/stattools.py:671: FutureWarning: fft=True will become the default after the release of the 0.12 release of statsmodels. To suppress this warning, explicitly set fft=False.\n",
      "  FutureWarning,\n"
     ]
    },
    {
     "name": "stdout",
     "output_type": "stream",
     "text": [
      "Save summary results into output dir: /home/htran/storage/datasets/metastasis_results/replication_timing/RT_results/\n"
     ]
    },
    {
     "name": "stderr",
     "output_type": "stream",
     "text": [
      "/home/htran/anaconda3/envs/myPython37/lib/python3.7/site-packages/ipykernel_launcher.py:5: DtypeWarning: Columns (1) have mixed types.Specify dtype option on import or set low_memory=False.\n",
      "  \"\"\"\n"
     ]
    },
    {
     "name": "stdout",
     "output_type": "stream",
     "text": [
      "G cells: \n",
      "(3141250, 14)\n",
      "S cells: \n",
      "(1242500, 14)\n",
      "Cell clones file: \n",
      "Index(['cell_id', 'clone_id', 'library_id', 'cell_type_status'], dtype='object')\n",
      "(1002, 4)\n"
     ]
    },
    {
     "name": "stderr",
     "output_type": "stream",
     "text": [
      "/home/htran/anaconda3/envs/myPython37/lib/python3.7/site-packages/statsmodels/tsa/stattools.py:671: FutureWarning: fft=True will become the default after the release of the 0.12 release of statsmodels. To suppress this warning, explicitly set fft=False.\n",
      "  FutureWarning,\n"
     ]
    },
    {
     "name": "stdout",
     "output_type": "stream",
     "text": [
      "Save summary results into output dir: /home/htran/storage/datasets/metastasis_results/replication_timing/RT_results/\n"
     ]
    }
   ],
   "source": [
    "obs_samples = ['SA535X4XB02498','SA535X4XB05391','SA535X4XB05462','SA535X4XB05649']\n",
    "sid = 'SA535X4XB02498'\n",
    "results_dir = '/home/htran/storage/datasets/metastasis_results/replication_timing/RT_results/'\n",
    "for sid in obs_samples:\n",
    "    load_data(sid, results_dir, argv=None)"
   ]
  },
  {
   "cell_type": "code",
   "execution_count": null,
   "id": "mediterranean-carrier",
   "metadata": {},
   "outputs": [],
   "source": []
  },
  {
   "cell_type": "code",
   "execution_count": 17,
   "id": "least-ribbon",
   "metadata": {},
   "outputs": [
    {
     "name": "stderr",
     "output_type": "stream",
     "text": [
      "/home/htran/anaconda3/envs/myPython37/lib/python3.7/site-packages/IPython/core/interactiveshell.py:3457: DtypeWarning: Columns (1) have mixed types.Specify dtype option on import or set low_memory=False.\n",
      "  exec(code_obj, self.user_global_ns, self.user_ns)\n"
     ]
    },
    {
     "name": "stdout",
     "output_type": "stream",
     "text": [
      "G cells: \n",
      "(3940810, 14)\n",
      "S cells: \n",
      "(1303260, 14)\n",
      "Cell clones file: \n",
      "Index(['cell_id', 'clone_id', 'library_id', 'cell_type_status'], dtype='object')\n",
      "(845, 4)\n",
      "Index(['cell_id', 'chr', 'start', 'end', 'gc', 'state', 'library_id', 'reads',\n",
      "       'clone_id', 'model_cn_state', 'model_rep_state', 'model_tau', 'model_u',\n",
      "       'model_rho'],\n",
      "      dtype='object')\n",
      "(5244070, 14)\n"
     ]
    }
   ],
   "source": [
    "cell_clones_fn = os.path.join(results_dir,sid+'_clonal_RT.csv.gz')\n",
    "input_gfn = os.path.join(results_dir,sid+'_cn_g_with_scrt.csv.gz')\n",
    "input_sfn = os.path.join(results_dir,sid+'_cn_s_with_scrt.csv.gz')\n",
    "\n",
    "cn_g_with_scrt = pd.read_csv(input_gfn,compression='gzip')\n",
    "cn_s_with_scrt = pd.read_csv(input_sfn,compression='gzip')\n",
    "print('G cells: ')\n",
    "print(cn_g_with_scrt.shape)\n",
    "print('S cells: ')\n",
    "print(cn_s_with_scrt.shape)\n",
    "#     cell_clones_fn = os.path.join(input_dir, 'RT_input/A130854B_filtered_cell_clones.csv') \n",
    "cell_clones = pd.read_csv(cell_clones_fn,compression='gzip')\n",
    "print('Cell clones file: ')\n",
    "print(cell_clones.columns)\n",
    "print(cell_clones.shape)\n",
    "\n",
    "argv=None\n",
    "if argv==None:  # columns names definition\n",
    "        argv = pd.Series(['reads', 'state', 'gc','clone_id','hmmcopy',\n",
    "                 'model_cn_state','model_rep_state','reads'], \n",
    "                 index=['input_col','cn_col','gc_col','clone_col','cn_prior_method',\n",
    "                       'frac_rt_col','rep_col','rpm_col'])\n",
    "\n",
    "\n",
    "cn = pd.concat([cn_s_with_scrt, cn_g_with_scrt], ignore_index=True)\n",
    "print(cn.columns)\n",
    "print(cn.shape)\n",
    "\n"
   ]
  },
  {
   "cell_type": "code",
   "execution_count": 18,
   "id": "annoying-stationery",
   "metadata": {},
   "outputs": [
    {
     "name": "stderr",
     "output_type": "stream",
     "text": [
      "/home/htran/anaconda3/envs/myPython37/lib/python3.7/site-packages/statsmodels/tsa/stattools.py:671: FutureWarning: fft=True will become the default after the release of the 0.12 release of statsmodels. To suppress this warning, explicitly set fft=False.\n",
      "  FutureWarning,\n"
     ]
    }
   ],
   "source": [
    "# cell_metrics.columns\n",
    "# cell_metrics_RT_frac.columns\n",
    "# cell_clones.columns\n",
    "# cell_metrics_RT_frac.shape\n",
    "# cn_s_with_scrt.shape\n",
    "cell_metrics = RT_stat_utils.compute_quality_features(cn,  rpm_col=argv.rpm_col) #rep_state_col=argv.rep_col, cn_state_col=argv.cn_col,\n",
    "cell_metrics_RT_frac = RT_stat_utils.compute_cell_frac_v2(cn, frac_rt_col='cell_frac_rep', rep_state_col='model_rep_state')\n",
    "\n"
   ]
  },
  {
   "cell_type": "code",
   "execution_count": 30,
   "id": "ruled-sheriff",
   "metadata": {},
   "outputs": [],
   "source": [
    "frac_rt_col='cell_frac_rep'\n",
    "rep_state_col='model_rep_state'\n",
    "cell_metrics = []\n",
    "for cell_id, cell_cn in cn.groupby('cell_id'):\n",
    "    temp_rep = cell_cn[rep_state_col].values\n",
    "    temp_frac = sum(temp_rep) / len(temp_rep)\n",
    "#     print(cell_id)\n",
    "#     print(temp_frac)\n",
    "#     cn.loc[cell_cn.index, frac_rt_col] = temp_frac\n",
    "\n",
    "#     if temp_frac > 0.95 or temp_frac < 0.05:\n",
    "#         cn.loc[cell_cn.index, 'extreme_cell_frac'] = True\n",
    "\n",
    "    # temp_df = pd.DataFrame({   \n",
    "    #     'cell_id': [cell_id], 'cell_frac_rep': temp_frac\n",
    "    # })\n",
    "#     temp_df = pd.Series([cell_id, temp_frac], index=['cell_id','cell_frac_rep'])\n",
    "    temp_df = pd.DataFrame({'cell_id': [cell_id], 'cell_frac_rep': [temp_frac]})\n",
    "    cell_metrics.append(temp_df)\n",
    "    \n",
    "cell_metrics = pd.concat(cell_metrics, ignore_index=True)    "
   ]
  },
  {
   "cell_type": "code",
   "execution_count": 45,
   "id": "established-practitioner",
   "metadata": {},
   "outputs": [
    {
     "data": {
      "text/plain": [
       "0.9251"
      ]
     },
     "execution_count": 45,
     "metadata": {},
     "output_type": "execute_result"
    }
   ],
   "source": [
    "import math\n",
    "def round_up(n, decimals=0):\n",
    "    multiplier = 10 ** decimals\n",
    "    return math.ceil(n * multiplier) / multiplier\n",
    "\n",
    "round_up(0.925073, decimals=4)\n",
    "\n",
    "# cell_metrics['cell_frac_rep'].values"
   ]
  },
  {
   "cell_type": "code",
   "execution_count": 43,
   "id": "healthy-barrel",
   "metadata": {},
   "outputs": [],
   "source": [
    "cell_metrics['cell_frac_rep'] = [round_up(r, decimals=4) for r in cell_metrics['cell_frac_rep'].values]"
   ]
  },
  {
   "cell_type": "code",
   "execution_count": 2,
   "id": "drawn-overhead",
   "metadata": {},
   "outputs": [
    {
     "name": "stdout",
     "output_type": "stream",
     "text": [
      "(1242500, 14)\n",
      "Index(['cell_id', 'chr', 'start', 'end', 'gc', 'state', 'library_id', 'reads',\n",
      "       'clone_id', 'model_cn_state', 'model_rep_state', 'model_tau', 'model_u',\n",
      "       'model_rho'],\n",
      "      dtype='object')\n"
     ]
    },
    {
     "name": "stderr",
     "output_type": "stream",
     "text": [
      "/home/htran/anaconda3/envs/myPython37/lib/python3.7/site-packages/IPython/core/interactiveshell.py:3457: DtypeWarning: Columns (1) have mixed types.Specify dtype option on import or set low_memory=False.\n",
      "  exec(code_obj, self.user_global_ns, self.user_ns)\n"
     ]
    }
   ],
   "source": [
    "output_dir='/home/htran/storage/datasets/metastasis_results/replication_timing/RT_results/'\n",
    "cn_s_with_scrt = pd.read_csv(os.path.join(output_dir,'SA535X4XB05649_cn_s_with_scrt.csv.gz'))\n",
    "print(cn_s_with_scrt.shape)\n",
    "print(cn_s_with_scrt.columns)"
   ]
  },
  {
   "cell_type": "code",
   "execution_count": 4,
   "id": "challenging-campbell",
   "metadata": {},
   "outputs": [
    {
     "data": {
      "text/html": [
       "<div>\n",
       "<style scoped>\n",
       "    .dataframe tbody tr th:only-of-type {\n",
       "        vertical-align: middle;\n",
       "    }\n",
       "\n",
       "    .dataframe tbody tr th {\n",
       "        vertical-align: top;\n",
       "    }\n",
       "\n",
       "    .dataframe thead th {\n",
       "        text-align: right;\n",
       "    }\n",
       "</style>\n",
       "<table border=\"1\" class=\"dataframe\">\n",
       "  <thead>\n",
       "    <tr style=\"text-align: right;\">\n",
       "      <th></th>\n",
       "      <th>cell_id</th>\n",
       "      <th>clone_id</th>\n",
       "      <th>library_id</th>\n",
       "      <th>size</th>\n",
       "    </tr>\n",
       "  </thead>\n",
       "  <tbody>\n",
       "    <tr>\n",
       "      <th>0</th>\n",
       "      <td>SA535X4XB05649-A98165A-R03-C17</td>\n",
       "      <td>T</td>\n",
       "      <td>A98165A</td>\n",
       "      <td>4375</td>\n",
       "    </tr>\n",
       "    <tr>\n",
       "      <th>1</th>\n",
       "      <td>SA535X4XB05649-A98165A-R03-C22</td>\n",
       "      <td>I</td>\n",
       "      <td>A98165A</td>\n",
       "      <td>4375</td>\n",
       "    </tr>\n",
       "    <tr>\n",
       "      <th>2</th>\n",
       "      <td>SA535X4XB05649-A98165A-R03-C23</td>\n",
       "      <td>Q</td>\n",
       "      <td>A98165A</td>\n",
       "      <td>4375</td>\n",
       "    </tr>\n",
       "    <tr>\n",
       "      <th>3</th>\n",
       "      <td>SA535X4XB05649-A98165A-R03-C25</td>\n",
       "      <td>T</td>\n",
       "      <td>A98165A</td>\n",
       "      <td>4375</td>\n",
       "    </tr>\n",
       "    <tr>\n",
       "      <th>4</th>\n",
       "      <td>SA535X4XB05649-A98165A-R03-C29</td>\n",
       "      <td>R</td>\n",
       "      <td>A98165A</td>\n",
       "      <td>4375</td>\n",
       "    </tr>\n",
       "    <tr>\n",
       "      <th>...</th>\n",
       "      <td>...</td>\n",
       "      <td>...</td>\n",
       "      <td>...</td>\n",
       "      <td>...</td>\n",
       "    </tr>\n",
       "    <tr>\n",
       "      <th>279</th>\n",
       "      <td>SA535X4XB05649-A98261A-R26-C22</td>\n",
       "      <td>T</td>\n",
       "      <td>A98261A</td>\n",
       "      <td>4375</td>\n",
       "    </tr>\n",
       "    <tr>\n",
       "      <th>280</th>\n",
       "      <td>SA535X4XB05649-A98261A-R27-C09</td>\n",
       "      <td>N</td>\n",
       "      <td>A98261A</td>\n",
       "      <td>4375</td>\n",
       "    </tr>\n",
       "    <tr>\n",
       "      <th>281</th>\n",
       "      <td>SA535X4XB05649-A98261A-R28-C19</td>\n",
       "      <td>N</td>\n",
       "      <td>A98261A</td>\n",
       "      <td>4375</td>\n",
       "    </tr>\n",
       "    <tr>\n",
       "      <th>282</th>\n",
       "      <td>SA535X4XB05649-A98277B-R46-C69</td>\n",
       "      <td>Q</td>\n",
       "      <td>A98277B</td>\n",
       "      <td>4375</td>\n",
       "    </tr>\n",
       "    <tr>\n",
       "      <th>283</th>\n",
       "      <td>SA535X4XB05649-A98277B-R52-C09</td>\n",
       "      <td>P</td>\n",
       "      <td>A98277B</td>\n",
       "      <td>4375</td>\n",
       "    </tr>\n",
       "  </tbody>\n",
       "</table>\n",
       "<p>284 rows × 4 columns</p>\n",
       "</div>"
      ],
      "text/plain": [
       "                            cell_id clone_id library_id  size\n",
       "0    SA535X4XB05649-A98165A-R03-C17        T    A98165A  4375\n",
       "1    SA535X4XB05649-A98165A-R03-C22        I    A98165A  4375\n",
       "2    SA535X4XB05649-A98165A-R03-C23        Q    A98165A  4375\n",
       "3    SA535X4XB05649-A98165A-R03-C25        T    A98165A  4375\n",
       "4    SA535X4XB05649-A98165A-R03-C29        R    A98165A  4375\n",
       "..                              ...      ...        ...   ...\n",
       "279  SA535X4XB05649-A98261A-R26-C22        T    A98261A  4375\n",
       "280  SA535X4XB05649-A98261A-R27-C09        N    A98261A  4375\n",
       "281  SA535X4XB05649-A98261A-R28-C19        N    A98261A  4375\n",
       "282  SA535X4XB05649-A98277B-R46-C69        Q    A98277B  4375\n",
       "283  SA535X4XB05649-A98277B-R52-C09        P    A98277B  4375\n",
       "\n",
       "[284 rows x 4 columns]"
      ]
     },
     "execution_count": 4,
     "metadata": {},
     "output_type": "execute_result"
    }
   ],
   "source": [
    "cn_s_with_scrt_extracted = cn_s_with_scrt.loc[:,['cell_id','clone_id','library_id']]\n",
    "\n",
    "cn_s_with_scrt_extracted = cn_s_with_scrt_extracted.groupby(['cell_id','clone_id','library_id'], as_index=False).size()\n",
    "cn_s_with_scrt_extracted"
   ]
  },
  {
   "cell_type": "code",
   "execution_count": 7,
   "id": "current-stress",
   "metadata": {},
   "outputs": [],
   "source": [
    "# cn_s_with_scrt_extracted['cell_type_status'] = np.repeat('cn_s',cn_s_with_scrt_extracted.shape[0])\n",
    "cn_s_with_scrt_extracted['size'] = "
   ]
  },
  {
   "cell_type": "code",
   "execution_count": 9,
   "id": "operating-regular",
   "metadata": {},
   "outputs": [],
   "source": [
    "cn_g_with_scrt_extracted = cn_s_with_scrt_extracted"
   ]
  },
  {
   "cell_type": "code",
   "execution_count": 10,
   "id": "broke-expansion",
   "metadata": {},
   "outputs": [],
   "source": [
    "clonal_df = pd.concat([cn_s_with_scrt_extracted, cn_g_with_scrt_extracted], ignore_index=True)"
   ]
  },
  {
   "cell_type": "code",
   "execution_count": 1,
   "id": "hydraulic-variable",
   "metadata": {},
   "outputs": [],
   "source": [
    "# import re \n",
    "import RT_stat_utils\n",
    "import run_RT"
   ]
  },
  {
   "cell_type": "code",
   "execution_count": 2,
   "id": "clean-adoption",
   "metadata": {},
   "outputs": [],
   "source": [
    "import numpy as np\n",
    "import pandas as pd\n",
    "import os\n",
    "from argparse import ArgumentParser\n",
    "import statsmodels.api as sm\n",
    "\n",
    "import scdna_replication_tools\n",
    "## Some issues with import funcs from scdna_replication_tools\n",
    "## to fix it temporarilly, I import all funcs here\n",
    "from scdna_replication_tools.cncluster import kmeans_cluster\n",
    "from scdna_replication_tools.compute_consensus_clone_profiles import compute_consensus_clone_profiles\n",
    "from scdna_replication_tools.assign_s_to_clones import assign_s_to_clones\n",
    "from scdna_replication_tools.bulk_gc_correction import bulk_g1_gc_correction\n",
    "from scdna_replication_tools.normalize_by_cell import normalize_by_cell\n",
    "from scdna_replication_tools.normalize_by_clone import normalize_by_clone\n",
    "from scdna_replication_tools.binarize_rt_profiles import binarize_profiles\n",
    "from scdna_replication_tools.compute_pseudobulk_rt_profiles import compute_pseudobulk_rt_profiles\n",
    "from scdna_replication_tools.calculate_twidth import compute_time_from_scheduled_column, calculate_twidth\n",
    "from scdna_replication_tools.pert_model import pyro_infer_scRT\n",
    "from scdna_replication_tools.infer_scRT import scRT #main func\n",
    "\n"
   ]
  },
  {
   "cell_type": "code",
   "execution_count": 7,
   "id": "appointed-instrument",
   "metadata": {},
   "outputs": [],
   "source": [
    "input_dir = \"/home/htran/storage/raw_DLP/metastasis_DLP/SA919/A130854B/\"\n",
    "input_gfn = os.path.join(input_dir, 'hmmcopy/filtered_reads_RT_g_cells.csv.gz') \n",
    "input_sfn = os.path.join(input_dir, 'hmmcopy/filtered_reads_RT_s_cells.csv.gz') \n",
    "cell_clones_fn = os.path.join(input_dir, 'RT_input/A130854B_filtered_cell_clones_v2.csv') \n",
    "nb_iterations = 2\n",
    "output_dir = None"
   ]
  },
  {
   "cell_type": "code",
   "execution_count": 8,
   "id": "senior-hazard",
   "metadata": {},
   "outputs": [
    {
     "name": "stdout",
     "output_type": "stream",
     "text": [
      "G cells: \n",
      "(3093125, 7)\n",
      "S cells: \n",
      "(1295000, 7)\n",
      "Cell clones file: \n",
      "Index(['umap1', 'umap2', 'cell_id', 'clone_id', 'cell_type_status',\n",
      "       'library_id'],\n",
      "      dtype='object')\n",
      "(1003, 6)\n",
      "G cells: \n",
      "(3093125, 12)\n",
      "S cells: \n",
      "(1295000, 12)\n",
      "G cells input: 3093125 9\n",
      "S cells input: 1295000 8\n"
     ]
    }
   ],
   "source": [
    "import re\n",
    "def load_data(input_gfn, input_sfn, cell_clones_fn, argv=None):\n",
    "    input_dir = os.path.dirname(input_gfn)\n",
    "#     input_gfn = os.path.join(input_dir, 'hmmcopy/filtered_reads_RT_g_cells.csv.gz') \n",
    "#     input_sfn = os.path.join(input_dir, 'hmmcopy/filtered_reads_RT_s_cells.csv.gz') \n",
    "    if bool(re.search(\".gz$\", input_gfn)):\n",
    "        cn_g = pd.read_csv(input_gfn,compression='gzip')\n",
    "    else:\n",
    "        cn_g = pd.read_csv(input_gfn) #header=0, index_col=0\n",
    "\n",
    "    if bool(re.search(\".gz$\", input_sfn)):\n",
    "        cn_s = pd.read_csv(input_sfn,compression='gzip')\n",
    "    else:\n",
    "        cn_s = pd.read_csv(input_sfn) #header=0, index_col=0\n",
    "\n",
    "    \n",
    "    cn_g = pd.read_csv(input_gfn,compression='gzip')\n",
    "    cn_s = pd.read_csv(input_sfn,compression='gzip')\n",
    "    print('G cells: ')\n",
    "    print(cn_g.shape)\n",
    "    print('S cells: ')\n",
    "    print(cn_s.shape)\n",
    "#     cell_clones_fn = os.path.join(input_dir, 'RT_input/A130854B_filtered_cell_clones.csv') \n",
    "    cell_clones = pd.read_csv(cell_clones_fn)\n",
    "    print('Cell clones file: ')\n",
    "    print(cell_clones.columns)\n",
    "    print(cell_clones.shape)\n",
    "#     select_values = cn_g['cell_id'].values\n",
    "#     cells_clone_cut = cell_clones.query('cell_id in @select_values')  \n",
    "# #     cells_clone_cut.index = cells_clone_cut['cell_id'].values\n",
    "#     # cells_clone_cut.loc['AT13696-A130854B-R48-C07',:]\n",
    "#     cells_clone_cut = cells_clone_cut.loc[:,['cell_id','clone_id', 'library_id']]\n",
    "#     cell_clones = cell_clones.loc[:,['cell_id','clone_id', 'library_id','cell_type_status']]\n",
    "    # included in input files\n",
    "#     cn_s['library_id'] = np.repeat(libary_id,cn_s.shape[0])\n",
    "#     cn_g['library_id'] = np.repeat(libary_id,cn_g.shape[0])\n",
    "    cn_g = pd.merge(cn_g, cell_clones, on='cell_id')\n",
    "    cn_s = pd.merge(cn_s, cell_clones, on='cell_id')\n",
    "    print('G cells: ')\n",
    "    print(cn_g.shape)\n",
    "    print('S cells: ')\n",
    "    print(cn_s.shape)\n",
    "    \n",
    "    if argv==None:\n",
    "        argv = pd.Series(['reads', 'state', 'gc','clone_id','hmmcopy',\n",
    "                 'model_cn_state','model_rep_state','reads'], \n",
    "                 index=['input_col','cn_col','gc_col','clone_col','cn_prior_method',\n",
    "                       'frac_rt_col','rep_col','rpm_col'])\n",
    "    # temp_cn_s = cn_s[['cell_id', 'chr', 'start', 'end', 'gc', 'state', 'library_id', 'reads']]\n",
    "#     temp_cn_g = cn_g1[['cell_id', 'chr', 'start', 'end', 'gc', 'state', 'library_id', 'clone_id','reads']]\n",
    "    temp_cn_s = cn_s[['cell_id', 'chr', 'start', 'end', argv.gc_col, argv.cn_col, 'library_id', argv.input_col]]\n",
    "    temp_cn_g = cn_g[['cell_id', 'chr', 'start', 'end', argv.gc_col, argv.cn_col, 'library_id', argv.clone_col, argv.input_col]]\n",
    "    print('G cells input: {0} {1}'.format(temp_cn_g.shape[0],temp_cn_g.shape[1]))\n",
    "    print('S cells input: {0} {1}'.format(temp_cn_s.shape[0],temp_cn_s.shape[1]))\n",
    "    \n",
    "    return cell_clones, input_dir, temp_cn_g, temp_cn_s\n",
    "\n",
    "\n",
    "\n",
    "cell_clones, input_dir, temp_cn_g, temp_cn_s = load_data(input_gfn, input_sfn, cell_clones_fn)"
   ]
  },
  {
   "cell_type": "code",
   "execution_count": null,
   "id": "latter-jason",
   "metadata": {},
   "outputs": [],
   "source": []
  },
  {
   "cell_type": "code",
   "execution_count": 14,
   "id": "recreational-italic",
   "metadata": {},
   "outputs": [],
   "source": [
    "def run_RT(datatag, input_dir, temp_cn_g, temp_cn_s, output_dir=None, nb_iterations = 500, argv=None):\n",
    "    datatag = datatag.replace(' ', '_')\n",
    "    if output_dir==None:\n",
    "        output_dir = os.path.join(input_dir,datatag+'_RT_results')\n",
    "    if not os.path.exists(output_dir): \n",
    "        os.makedirs(output_dir) \n",
    "        print('Creating an output dir: {0}'.format(output_dir))\n",
    "        \n",
    "#     nb_iterations = 10 #1500\n",
    "    if argv==None:\n",
    "        argv = pd.Series(['reads', 'state', 'gc','clone_id','hmmcopy',\n",
    "                 'model_cn_state','model_rep_state','reads'], \n",
    "                 index=['input_col','cn_col','gc_col','clone_col','cn_prior_method',\n",
    "                       'frac_rt_col','rep_col','rpm_col'])\n",
    "    print('Creating scrt object')\n",
    "    # create SPF object with input\n",
    "    scrt = scRT(temp_cn_s, temp_cn_g, input_col=argv.input_col, rt_prior_col=None, assign_col=argv.cn_col,\n",
    "                cn_state_col=argv.cn_col, gc_col=argv.gc_col, cn_prior_method=argv.cn_prior_method, max_iter=nb_iterations)\n",
    "    # run inference\n",
    "    print('Running inference')\n",
    "    cn_s_with_scrt, supp_s_output, cn_g_with_scrt, supp_g_output = scrt.infer_pyro_model()\n",
    "    \n",
    "    # cn_s_with_scrt, supp_s_output, cn_g_with_scrt, supp_g_output\n",
    "    cn_s_with_scrt.to_csv(os.path.join(output_dir,datatag+'_cn_s_with_scrt.csv.gz'))\n",
    "    supp_s_output.to_csv(os.path.join(output_dir,datatag+'_supp_s_output.csv.gz'))\n",
    "    cn_g_with_scrt.to_csv(os.path.join(output_dir,datatag+'_cn_g_with_scrt.csv.gz'))\n",
    "    supp_g_output.to_csv(os.path.join(output_dir,datatag+'_supp_g_output.csv.gz'))\n",
    "    print('Save results into output dir: {0}'.format(output_dir))\n",
    "    return output_dir, cn_g_with_scrt, cn_s_with_scrt"
   ]
  },
  {
   "cell_type": "code",
   "execution_count": 15,
   "id": "gentle-homework",
   "metadata": {},
   "outputs": [
    {
     "name": "stdout",
     "output_type": "stream",
     "text": [
      "creating scrt object\n",
      "running inference\n"
     ]
    },
    {
     "name": "stderr",
     "output_type": "stream",
     "text": [
      "  1461126 Loading data\n",
      "  1461126 ----------------------------------------\n"
     ]
    },
    {
     "name": "stdout",
     "output_type": "stream",
     "text": [
      "cn_s after assigning to clones\n",
      "                           cell_id chr     start       end        gc  state  \\\n",
      "0        AT13696-A130854B-R48-C09   1   2000001   2500000  0.594508      2   \n",
      "1        AT13696-A130854B-R48-C09   1   3000001   3500000  0.584572      2   \n",
      "2        AT13696-A130854B-R48-C09   1   4000001   4500000  0.482574      2   \n",
      "3        AT13696-A130854B-R48-C09   1   4500001   5000000  0.481828      2   \n",
      "4        AT13696-A130854B-R48-C09   1   5000001   5500000  0.447446      2   \n",
      "...                           ...  ..       ...       ...       ...    ...   \n",
      "1294995  AT13696-A130854B-R68-C70   Y  18000001  18500000  0.380458      0   \n",
      "1294996  AT13696-A130854B-R68-C70   Y  18500001  19000000  0.369494      0   \n",
      "1294997  AT13696-A130854B-R68-C70   Y  20500001  21000000  0.386036      0   \n",
      "1294998  AT13696-A130854B-R68-C70   Y  21000001  21500000  0.395094      0   \n",
      "1294999  AT13696-A130854B-R68-C70   Y  21500001  22000000  0.381986      0   \n",
      "\n",
      "        library_id  reads clone_id  \n",
      "0         A130854B     55        C  \n",
      "1         A130854B     31        C  \n",
      "2         A130854B     75        C  \n",
      "3         A130854B     59        C  \n",
      "4         A130854B      0        C  \n",
      "...            ...    ...      ...  \n",
      "1294995   A130854B      1        B  \n",
      "1294996   A130854B      0        B  \n",
      "1294997   A130854B      0        B  \n",
      "1294998   A130854B      0        B  \n",
      "1294999   A130854B      1        B  \n",
      "\n",
      "[1295000 rows x 9 columns]\n",
      "clone_profiles after assigning to clones\n",
      " clone_id      B  C\n",
      "chr start         \n",
      "1   2000001   1  1\n",
      "    3000001   1  1\n",
      "    4000001   1  1\n",
      "    4500001   1  1\n",
      "    5000001   1  1\n",
      "...          .. ..\n",
      "Y   18000001  0  0\n",
      "    18500001  0  0\n",
      "    20500001  0  0\n",
      "    21000001  0  0\n",
      "    21500001  0  0\n",
      "\n",
      "[4375 rows x 2 columns]\n",
      "using hmmcopy as cn_prior_method\n"
     ]
    },
    {
     "name": "stderr",
     "output_type": "stream",
     "text": [
      "  1627828 Start inference for G1-phase cells.\n",
      "/home/htran/anaconda3/envs/myPython37/lib/python3.7/site-packages/pyro/poutine/subsample_messenger.py:171: TracerWarning: Converting a tensor to a Python boolean might cause the trace to be incorrect. We can't record the data flow of Python values, so this value will be treated as a constant in the future. This means that the trace might not generalize to other inputs!\n",
      "  if len(shape) >= -dim and shape[dim] != 1:\n",
      "/home/htran/Projects/hakwoo_project/testing_methods/scdna_replication_tools/src/scdna-replication-tools/scdna_replication_tools/pert_model.py:595: TracerWarning: torch.tensor results are registered as constants in the trace. You can safely ignore this warning if you use this function to create tensors out of constant variables that would be the same every time you call this function. In any other case, this might cause the trace to be incorrect.\n",
      "  lamb = pyro.param('expose_lambda', torch.tensor([lambda_init]), constraint=constraints.interval(0.001, 0.999))\n",
      "  1628418 step: 0, loss: 1078047872.0\n",
      "  1628645 step: 1, loss: 174846912.0\n",
      "/home/htran/anaconda3/envs/myPython37/lib/python3.7/site-packages/pyro/infer/discrete.py:99: UserWarning: infer_discrete found no sample sites configured for enumeration. If you want to enumerate sites, you need to @config_enumerate or set infer={\"enumerate\": \"sequential\"} or infer={\"enumerate\": \"parallel\"}.\n",
      "  \"infer_discrete found no sample sites configured for enumeration. \"\n",
      "  1638373 Start inference for S-phase cells.\n",
      "/home/htran/anaconda3/envs/myPython37/lib/python3.7/site-packages/pyro/poutine/subsample_messenger.py:171: TracerWarning: Converting a tensor to a Python boolean might cause the trace to be incorrect. We can't record the data flow of Python values, so this value will be treated as a constant in the future. This means that the trace might not generalize to other inputs!\n",
      "  if len(shape) >= -dim and shape[dim] != 1:\n",
      "/home/htran/anaconda3/envs/myPython37/lib/python3.7/site-packages/pyro/poutine/subsample_messenger.py:171: TracerWarning: Converting a tensor to a Python boolean might cause the trace to be incorrect. We can't record the data flow of Python values, so this value will be treated as a constant in the future. This means that the trace might not generalize to other inputs!\n",
      "  if len(shape) >= -dim and shape[dim] != 1:\n",
      "/home/htran/anaconda3/envs/myPython37/lib/python3.7/site-packages/pyro/poutine/subsample_messenger.py:171: TracerWarning: Converting a tensor to a Python boolean might cause the trace to be incorrect. We can't record the data flow of Python values, so this value will be treated as a constant in the future. This means that the trace might not generalize to other inputs!\n",
      "  if len(shape) >= -dim and shape[dim] != 1:\n",
      "/home/htran/anaconda3/envs/myPython37/lib/python3.7/site-packages/pyro/poutine/subsample_messenger.py:171: TracerWarning: Converting a tensor to a Python boolean might cause the trace to be incorrect. We can't record the data flow of Python values, so this value will be treated as a constant in the future. This means that the trace might not generalize to other inputs!\n",
      "  if len(shape) >= -dim and shape[dim] != 1:\n",
      "/home/htran/Projects/hakwoo_project/testing_methods/scdna_replication_tools/src/scdna-replication-tools/scdna_replication_tools/pert_model.py:492: TracerWarning: torch.tensor results are registered as constants in the trace. You can safely ignore this warning if you use this function to create tensors out of constant variables that would be the same every time you call this function. In any other case, this might cause the trace to be incorrect.\n",
      "  a = pyro.sample('expose_a', dist.Gamma(torch.tensor([2.]), torch.tensor([0.2])))\n",
      "/home/htran/Projects/hakwoo_project/testing_methods/scdna_replication_tools/src/scdna-replication-tools/scdna_replication_tools/pert_model.py:513: TracerWarning: torch.tensor results are registered as constants in the trace. You can safely ignore this warning if you use this function to create tensors out of constant variables that would be the same every time you call this function. In any other case, this might cause the trace to be incorrect.\n",
      "  rho = pyro.sample('expose_rho', dist.Beta(torch.tensor([1.]), torch.tensor([1.])))\n",
      "  1644207 step: 0, loss: 3320462966784.0\n",
      "  1646419 step: 1, loss: 3197033250816.0\n",
      "  1838476 Running pre-trained S-phase model on cells initially labeled as G1/2-phase.\n",
      "/home/htran/anaconda3/envs/myPython37/lib/python3.7/site-packages/pyro/poutine/subsample_messenger.py:171: TracerWarning: Converting a tensor to a Python boolean might cause the trace to be incorrect. We can't record the data flow of Python values, so this value will be treated as a constant in the future. This means that the trace might not generalize to other inputs!\n",
      "  if len(shape) >= -dim and shape[dim] != 1:\n",
      "/home/htran/anaconda3/envs/myPython37/lib/python3.7/site-packages/pyro/poutine/subsample_messenger.py:171: TracerWarning: Converting a tensor to a Python boolean might cause the trace to be incorrect. We can't record the data flow of Python values, so this value will be treated as a constant in the future. This means that the trace might not generalize to other inputs!\n",
      "  if len(shape) >= -dim and shape[dim] != 1:\n",
      "/home/htran/anaconda3/envs/myPython37/lib/python3.7/site-packages/pyro/poutine/subsample_messenger.py:171: TracerWarning: Converting a tensor to a Python boolean might cause the trace to be incorrect. We can't record the data flow of Python values, so this value will be treated as a constant in the future. This means that the trace might not generalize to other inputs!\n",
      "  if len(shape) >= -dim and shape[dim] != 1:\n",
      "/home/htran/Projects/hakwoo_project/testing_methods/scdna_replication_tools/src/scdna-replication-tools/scdna_replication_tools/pert_model.py:492: TracerWarning: torch.tensor results are registered as constants in the trace. You can safely ignore this warning if you use this function to create tensors out of constant variables that would be the same every time you call this function. In any other case, this might cause the trace to be incorrect.\n",
      "  a = pyro.sample('expose_a', dist.Gamma(torch.tensor([2.]), torch.tensor([0.2])))\n",
      "/home/htran/Projects/hakwoo_project/testing_methods/scdna_replication_tools/src/scdna-replication-tools/scdna_replication_tools/pert_model.py:513: TracerWarning: torch.tensor results are registered as constants in the trace. You can safely ignore this warning if you use this function to create tensors out of constant variables that would be the same every time you call this function. In any other case, this might cause the trace to be incorrect.\n",
      "  rho = pyro.sample('expose_rho', dist.Beta(torch.tensor([1.]), torch.tensor([1.])))\n",
      "  1851844 step: 0, loss: 7916309970944.0\n"
     ]
    },
    {
     "name": "stdout",
     "output_type": "stream",
     "text": [
      "Save results into output dir: /home/htran/storage/raw_DLP/metastasis_DLP/SA919/A130854B/hmmcopy/SA919_RT_results\n"
     ]
    }
   ],
   "source": [
    "datatag = 'SA919'\n",
    "output_dir, cn_g_with_scrt, cn_s_with_scrt = run_RT(datatag, input_dir, temp_cn_g, temp_cn_s, output_dir, int(nb_iterations))"
   ]
  },
  {
   "cell_type": "code",
   "execution_count": 17,
   "id": "coated-click",
   "metadata": {},
   "outputs": [
    {
     "name": "stderr",
     "output_type": "stream",
     "text": [
      "/home/htran/anaconda3/envs/myPython37/lib/python3.7/site-packages/statsmodels/tsa/stattools.py:671: FutureWarning: fft=True will become the default after the release of the 0.12 release of statsmodels. To suppress this warning, explicitly set fft=False.\n",
      "  FutureWarning,\n",
      "/home/htran/anaconda3/envs/myPython37/lib/python3.7/site-packages/statsmodels/tsa/stattools.py:677: RuntimeWarning: invalid value encountered in true_divide\n",
      "  acf = avf[: nlags + 1] / avf[0]\n",
      "  3975027 findfont: Matching sans\\-serif:style=normal:variant=normal:weight=normal:stretch=normal:size=10.0.\n"
     ]
    },
    {
     "name": "stdout",
     "output_type": "stream",
     "text": [
      "findfont: Matching sans\\-serif:style=normal:variant=normal:weight=normal:stretch=normal:size=10.0.\n"
     ]
    },
    {
     "name": "stderr",
     "output_type": "stream",
     "text": [
      "  3975028 findfont: score(<Font 'DejaVu Sans Display' (DejaVuSansDisplay.ttf) normal normal 400 normal>) = 10.05\n"
     ]
    },
    {
     "name": "stdout",
     "output_type": "stream",
     "text": [
      "findfont: score(<Font 'DejaVu Sans Display' (DejaVuSansDisplay.ttf) normal normal 400 normal>) = 10.05\n"
     ]
    },
    {
     "name": "stderr",
     "output_type": "stream",
     "text": [
      "  3975030 findfont: score(<Font 'cmsy10' (cmsy10.ttf) normal normal 400 normal>) = 10.05\n"
     ]
    },
    {
     "name": "stdout",
     "output_type": "stream",
     "text": [
      "findfont: score(<Font 'cmsy10' (cmsy10.ttf) normal normal 400 normal>) = 10.05\n"
     ]
    },
    {
     "name": "stderr",
     "output_type": "stream",
     "text": [
      "  3975032 findfont: score(<Font 'DejaVu Sans Mono' (DejaVuSansMono.ttf) normal normal 400 normal>) = 10.05\n"
     ]
    },
    {
     "name": "stdout",
     "output_type": "stream",
     "text": [
      "findfont: score(<Font 'DejaVu Sans Mono' (DejaVuSansMono.ttf) normal normal 400 normal>) = 10.05\n"
     ]
    },
    {
     "name": "stderr",
     "output_type": "stream",
     "text": [
      "  3975034 findfont: score(<Font 'STIXSizeTwoSym' (STIXSizTwoSymBol.ttf) normal normal 700 normal>) = 10.335\n"
     ]
    },
    {
     "name": "stdout",
     "output_type": "stream",
     "text": [
      "findfont: score(<Font 'STIXSizeTwoSym' (STIXSizTwoSymBol.ttf) normal normal 700 normal>) = 10.335\n"
     ]
    },
    {
     "name": "stderr",
     "output_type": "stream",
     "text": [
      "  3975036 findfont: score(<Font 'DejaVu Sans Mono' (DejaVuSansMono-Bold.ttf) normal normal 700 normal>) = 10.335\n"
     ]
    },
    {
     "name": "stdout",
     "output_type": "stream",
     "text": [
      "findfont: score(<Font 'DejaVu Sans Mono' (DejaVuSansMono-Bold.ttf) normal normal 700 normal>) = 10.335\n"
     ]
    },
    {
     "name": "stderr",
     "output_type": "stream",
     "text": [
      "  3975037 findfont: score(<Font 'DejaVu Sans Mono' (DejaVuSansMono-Oblique.ttf) oblique normal 400 normal>) = 11.05\n"
     ]
    },
    {
     "name": "stdout",
     "output_type": "stream",
     "text": [
      "findfont: score(<Font 'DejaVu Sans Mono' (DejaVuSansMono-Oblique.ttf) oblique normal 400 normal>) = 11.05\n"
     ]
    },
    {
     "name": "stderr",
     "output_type": "stream",
     "text": [
      "  3975039 findfont: score(<Font 'DejaVu Sans' (DejaVuSans-Oblique.ttf) oblique normal 400 normal>) = 1.05\n"
     ]
    },
    {
     "name": "stdout",
     "output_type": "stream",
     "text": [
      "findfont: score(<Font 'DejaVu Sans' (DejaVuSans-Oblique.ttf) oblique normal 400 normal>) = 1.05\n"
     ]
    },
    {
     "name": "stderr",
     "output_type": "stream",
     "text": [
      "  3975040 findfont: score(<Font 'STIXSizeThreeSym' (STIXSizThreeSymBol.ttf) normal normal 700 normal>) = 10.335\n"
     ]
    },
    {
     "name": "stdout",
     "output_type": "stream",
     "text": [
      "findfont: score(<Font 'STIXSizeThreeSym' (STIXSizThreeSymBol.ttf) normal normal 700 normal>) = 10.335\n"
     ]
    },
    {
     "name": "stderr",
     "output_type": "stream",
     "text": [
      "  3975041 findfont: score(<Font 'DejaVu Sans' (DejaVuSans-BoldOblique.ttf) oblique normal 700 normal>) = 1.335\n"
     ]
    },
    {
     "name": "stdout",
     "output_type": "stream",
     "text": [
      "findfont: score(<Font 'DejaVu Sans' (DejaVuSans-BoldOblique.ttf) oblique normal 700 normal>) = 1.335\n"
     ]
    },
    {
     "name": "stderr",
     "output_type": "stream",
     "text": [
      "  3975043 findfont: score(<Font 'DejaVu Serif' (DejaVuSerif-BoldItalic.ttf) italic normal 700 normal>) = 11.335\n"
     ]
    },
    {
     "name": "stdout",
     "output_type": "stream",
     "text": [
      "findfont: score(<Font 'DejaVu Serif' (DejaVuSerif-BoldItalic.ttf) italic normal 700 normal>) = 11.335\n"
     ]
    },
    {
     "name": "stderr",
     "output_type": "stream",
     "text": [
      "  3975047 findfont: score(<Font 'STIXSizeOneSym' (STIXSizOneSymReg.ttf) normal normal 400 normal>) = 10.05\n"
     ]
    },
    {
     "name": "stdout",
     "output_type": "stream",
     "text": [
      "findfont: score(<Font 'STIXSizeOneSym' (STIXSizOneSymReg.ttf) normal normal 400 normal>) = 10.05\n"
     ]
    },
    {
     "name": "stderr",
     "output_type": "stream",
     "text": [
      "  3975048 findfont: score(<Font 'STIXSizeFiveSym' (STIXSizFiveSymReg.ttf) normal normal 400 normal>) = 10.05\n"
     ]
    },
    {
     "name": "stdout",
     "output_type": "stream",
     "text": [
      "findfont: score(<Font 'STIXSizeFiveSym' (STIXSizFiveSymReg.ttf) normal normal 400 normal>) = 10.05\n"
     ]
    },
    {
     "name": "stderr",
     "output_type": "stream",
     "text": [
      "  3975049 findfont: score(<Font 'DejaVu Serif' (DejaVuSerif.ttf) normal normal 400 normal>) = 10.05\n"
     ]
    },
    {
     "name": "stdout",
     "output_type": "stream",
     "text": [
      "findfont: score(<Font 'DejaVu Serif' (DejaVuSerif.ttf) normal normal 400 normal>) = 10.05\n"
     ]
    },
    {
     "name": "stderr",
     "output_type": "stream",
     "text": [
      "  3975051 findfont: score(<Font 'DejaVu Sans' (DejaVuSans-Bold.ttf) normal normal 700 normal>) = 0.33499999999999996\n"
     ]
    },
    {
     "name": "stdout",
     "output_type": "stream",
     "text": [
      "findfont: score(<Font 'DejaVu Sans' (DejaVuSans-Bold.ttf) normal normal 700 normal>) = 0.33499999999999996\n"
     ]
    },
    {
     "name": "stderr",
     "output_type": "stream",
     "text": [
      "  3975052 findfont: score(<Font 'DejaVu Sans' (DejaVuSans.ttf) normal normal 400 normal>) = 0.05\n"
     ]
    },
    {
     "name": "stdout",
     "output_type": "stream",
     "text": [
      "findfont: score(<Font 'DejaVu Sans' (DejaVuSans.ttf) normal normal 400 normal>) = 0.05\n"
     ]
    },
    {
     "name": "stderr",
     "output_type": "stream",
     "text": [
      "  3975054 findfont: score(<Font 'STIXSizeFourSym' (STIXSizFourSymBol.ttf) normal normal 700 normal>) = 10.335\n"
     ]
    },
    {
     "name": "stdout",
     "output_type": "stream",
     "text": [
      "findfont: score(<Font 'STIXSizeFourSym' (STIXSizFourSymBol.ttf) normal normal 700 normal>) = 10.335\n"
     ]
    },
    {
     "name": "stderr",
     "output_type": "stream",
     "text": [
      "  3975055 findfont: score(<Font 'DejaVu Serif' (DejaVuSerif-Italic.ttf) italic normal 400 normal>) = 11.05\n"
     ]
    },
    {
     "name": "stdout",
     "output_type": "stream",
     "text": [
      "findfont: score(<Font 'DejaVu Serif' (DejaVuSerif-Italic.ttf) italic normal 400 normal>) = 11.05\n"
     ]
    },
    {
     "name": "stderr",
     "output_type": "stream",
     "text": [
      "  3975056 findfont: score(<Font 'STIXNonUnicode' (STIXNonUniBol.ttf) normal normal 700 normal>) = 10.335\n"
     ]
    },
    {
     "name": "stdout",
     "output_type": "stream",
     "text": [
      "findfont: score(<Font 'STIXNonUnicode' (STIXNonUniBol.ttf) normal normal 700 normal>) = 10.335\n"
     ]
    },
    {
     "name": "stderr",
     "output_type": "stream",
     "text": [
      "  3975057 findfont: score(<Font 'DejaVu Serif Display' (DejaVuSerifDisplay.ttf) normal normal 400 normal>) = 10.05\n"
     ]
    },
    {
     "name": "stdout",
     "output_type": "stream",
     "text": [
      "findfont: score(<Font 'DejaVu Serif Display' (DejaVuSerifDisplay.ttf) normal normal 400 normal>) = 10.05\n"
     ]
    },
    {
     "name": "stderr",
     "output_type": "stream",
     "text": [
      "  3975059 findfont: score(<Font 'STIXSizeOneSym' (STIXSizOneSymBol.ttf) normal normal 700 normal>) = 10.335\n"
     ]
    },
    {
     "name": "stdout",
     "output_type": "stream",
     "text": [
      "findfont: score(<Font 'STIXSizeOneSym' (STIXSizOneSymBol.ttf) normal normal 700 normal>) = 10.335\n"
     ]
    },
    {
     "name": "stderr",
     "output_type": "stream",
     "text": [
      "  3975062 findfont: score(<Font 'STIXNonUnicode' (STIXNonUniIta.ttf) italic normal 400 normal>) = 11.05\n"
     ]
    },
    {
     "name": "stdout",
     "output_type": "stream",
     "text": [
      "findfont: score(<Font 'STIXNonUnicode' (STIXNonUniIta.ttf) italic normal 400 normal>) = 11.05\n"
     ]
    },
    {
     "name": "stderr",
     "output_type": "stream",
     "text": [
      "  3975063 findfont: score(<Font 'cmex10' (cmex10.ttf) normal normal 400 normal>) = 10.05\n"
     ]
    },
    {
     "name": "stdout",
     "output_type": "stream",
     "text": [
      "findfont: score(<Font 'cmex10' (cmex10.ttf) normal normal 400 normal>) = 10.05\n"
     ]
    },
    {
     "name": "stderr",
     "output_type": "stream",
     "text": [
      "  3975064 findfont: score(<Font 'STIXGeneral' (STIXGeneral.ttf) normal normal 400 normal>) = 10.05\n"
     ]
    },
    {
     "name": "stdout",
     "output_type": "stream",
     "text": [
      "findfont: score(<Font 'STIXGeneral' (STIXGeneral.ttf) normal normal 400 normal>) = 10.05\n"
     ]
    },
    {
     "name": "stderr",
     "output_type": "stream",
     "text": [
      "  3975066 findfont: score(<Font 'STIXNonUnicode' (STIXNonUni.ttf) normal normal 400 normal>) = 10.05\n"
     ]
    },
    {
     "name": "stdout",
     "output_type": "stream",
     "text": [
      "findfont: score(<Font 'STIXNonUnicode' (STIXNonUni.ttf) normal normal 400 normal>) = 10.05\n"
     ]
    },
    {
     "name": "stderr",
     "output_type": "stream",
     "text": [
      "  3975067 findfont: score(<Font 'STIXSizeFourSym' (STIXSizFourSymReg.ttf) normal normal 400 normal>) = 10.05\n"
     ]
    },
    {
     "name": "stdout",
     "output_type": "stream",
     "text": [
      "findfont: score(<Font 'STIXSizeFourSym' (STIXSizFourSymReg.ttf) normal normal 400 normal>) = 10.05\n"
     ]
    },
    {
     "name": "stderr",
     "output_type": "stream",
     "text": [
      "  3975068 findfont: score(<Font 'DejaVu Serif' (DejaVuSerif-Bold.ttf) normal normal 700 normal>) = 10.335\n"
     ]
    },
    {
     "name": "stdout",
     "output_type": "stream",
     "text": [
      "findfont: score(<Font 'DejaVu Serif' (DejaVuSerif-Bold.ttf) normal normal 700 normal>) = 10.335\n"
     ]
    },
    {
     "name": "stderr",
     "output_type": "stream",
     "text": [
      "  3975069 findfont: score(<Font 'STIXNonUnicode' (STIXNonUniBolIta.ttf) italic normal 700 normal>) = 11.335\n"
     ]
    },
    {
     "name": "stdout",
     "output_type": "stream",
     "text": [
      "findfont: score(<Font 'STIXNonUnicode' (STIXNonUniBolIta.ttf) italic normal 700 normal>) = 11.335\n"
     ]
    },
    {
     "name": "stderr",
     "output_type": "stream",
     "text": [
      "  3975072 findfont: score(<Font 'STIXSizeTwoSym' (STIXSizTwoSymReg.ttf) normal normal 400 normal>) = 10.05\n"
     ]
    },
    {
     "name": "stdout",
     "output_type": "stream",
     "text": [
      "findfont: score(<Font 'STIXSizeTwoSym' (STIXSizTwoSymReg.ttf) normal normal 400 normal>) = 10.05\n"
     ]
    },
    {
     "name": "stderr",
     "output_type": "stream",
     "text": [
      "  3975073 findfont: score(<Font 'cmtt10' (cmtt10.ttf) normal normal 400 normal>) = 10.05\n"
     ]
    },
    {
     "name": "stdout",
     "output_type": "stream",
     "text": [
      "findfont: score(<Font 'cmtt10' (cmtt10.ttf) normal normal 400 normal>) = 10.05\n"
     ]
    },
    {
     "name": "stderr",
     "output_type": "stream",
     "text": [
      "  3975075 findfont: score(<Font 'cmmi10' (cmmi10.ttf) normal normal 400 normal>) = 10.05\n"
     ]
    },
    {
     "name": "stdout",
     "output_type": "stream",
     "text": [
      "findfont: score(<Font 'cmmi10' (cmmi10.ttf) normal normal 400 normal>) = 10.05\n"
     ]
    },
    {
     "name": "stderr",
     "output_type": "stream",
     "text": [
      "  3975076 findfont: score(<Font 'STIXGeneral' (STIXGeneralBolIta.ttf) italic normal 700 normal>) = 11.335\n"
     ]
    },
    {
     "name": "stdout",
     "output_type": "stream",
     "text": [
      "findfont: score(<Font 'STIXGeneral' (STIXGeneralBolIta.ttf) italic normal 700 normal>) = 11.335\n"
     ]
    },
    {
     "name": "stderr",
     "output_type": "stream",
     "text": [
      "  3975077 findfont: score(<Font 'STIXSizeThreeSym' (STIXSizThreeSymReg.ttf) normal normal 400 normal>) = 10.05\n"
     ]
    },
    {
     "name": "stdout",
     "output_type": "stream",
     "text": [
      "findfont: score(<Font 'STIXSizeThreeSym' (STIXSizThreeSymReg.ttf) normal normal 400 normal>) = 10.05\n"
     ]
    },
    {
     "name": "stderr",
     "output_type": "stream",
     "text": [
      "  3975080 findfont: score(<Font 'cmr10' (cmr10.ttf) normal normal 400 normal>) = 10.05\n"
     ]
    },
    {
     "name": "stdout",
     "output_type": "stream",
     "text": [
      "findfont: score(<Font 'cmr10' (cmr10.ttf) normal normal 400 normal>) = 10.05\n"
     ]
    },
    {
     "name": "stderr",
     "output_type": "stream",
     "text": [
      "  3975081 findfont: score(<Font 'STIXGeneral' (STIXGeneralItalic.ttf) italic normal 400 normal>) = 11.05\n"
     ]
    },
    {
     "name": "stdout",
     "output_type": "stream",
     "text": [
      "findfont: score(<Font 'STIXGeneral' (STIXGeneralItalic.ttf) italic normal 400 normal>) = 11.05\n"
     ]
    },
    {
     "name": "stderr",
     "output_type": "stream",
     "text": [
      "  3975082 findfont: score(<Font 'cmss10' (cmss10.ttf) normal normal 400 normal>) = 10.05\n"
     ]
    },
    {
     "name": "stdout",
     "output_type": "stream",
     "text": [
      "findfont: score(<Font 'cmss10' (cmss10.ttf) normal normal 400 normal>) = 10.05\n"
     ]
    },
    {
     "name": "stderr",
     "output_type": "stream",
     "text": [
      "  3975083 findfont: score(<Font 'DejaVu Sans Mono' (DejaVuSansMono-BoldOblique.ttf) oblique normal 700 normal>) = 11.335\n"
     ]
    },
    {
     "name": "stdout",
     "output_type": "stream",
     "text": [
      "findfont: score(<Font 'DejaVu Sans Mono' (DejaVuSansMono-BoldOblique.ttf) oblique normal 700 normal>) = 11.335\n"
     ]
    },
    {
     "name": "stderr",
     "output_type": "stream",
     "text": [
      "  3975086 findfont: score(<Font 'cmb10' (cmb10.ttf) normal normal 400 normal>) = 10.05\n"
     ]
    },
    {
     "name": "stdout",
     "output_type": "stream",
     "text": [
      "findfont: score(<Font 'cmb10' (cmb10.ttf) normal normal 400 normal>) = 10.05\n"
     ]
    },
    {
     "name": "stderr",
     "output_type": "stream",
     "text": [
      "  3975087 findfont: score(<Font 'STIXGeneral' (STIXGeneralBol.ttf) normal normal 700 normal>) = 10.335\n"
     ]
    },
    {
     "name": "stdout",
     "output_type": "stream",
     "text": [
      "findfont: score(<Font 'STIXGeneral' (STIXGeneralBol.ttf) normal normal 700 normal>) = 10.335\n"
     ]
    },
    {
     "name": "stderr",
     "output_type": "stream",
     "text": [
      "  3975088 findfont: score(<Font 'DejaVu Serif' (DejaVuSerif-Bold.ttf) normal normal 700 normal>) = 10.335\n"
     ]
    },
    {
     "name": "stdout",
     "output_type": "stream",
     "text": [
      "findfont: score(<Font 'DejaVu Serif' (DejaVuSerif-Bold.ttf) normal normal 700 normal>) = 10.335\n"
     ]
    },
    {
     "name": "stderr",
     "output_type": "stream",
     "text": [
      "  3975090 findfont: score(<Font 'Noto Mono' (NotoMono-Regular.ttf) normal normal 400 normal>) = 10.05\n"
     ]
    },
    {
     "name": "stdout",
     "output_type": "stream",
     "text": [
      "findfont: score(<Font 'Noto Mono' (NotoMono-Regular.ttf) normal normal 400 normal>) = 10.05\n"
     ]
    },
    {
     "name": "stderr",
     "output_type": "stream",
     "text": [
      "  3975091 findfont: score(<Font 'DejaVu Sans' (DejaVuSans-Bold.ttf) normal normal 700 normal>) = 0.33499999999999996\n"
     ]
    },
    {
     "name": "stdout",
     "output_type": "stream",
     "text": [
      "findfont: score(<Font 'DejaVu Sans' (DejaVuSans-Bold.ttf) normal normal 700 normal>) = 0.33499999999999996\n"
     ]
    },
    {
     "name": "stderr",
     "output_type": "stream",
     "text": [
      "  3975093 findfont: score(<Font 'DejaVu Sans' (DejaVuSans.ttf) normal normal 400 normal>) = 0.05\n"
     ]
    },
    {
     "name": "stdout",
     "output_type": "stream",
     "text": [
      "findfont: score(<Font 'DejaVu Sans' (DejaVuSans.ttf) normal normal 400 normal>) = 0.05\n"
     ]
    },
    {
     "name": "stderr",
     "output_type": "stream",
     "text": [
      "  3975095 findfont: score(<Font 'Droid Sans Fallback' (DroidSansFallbackFull.ttf) normal normal 400 normal>) = 10.05\n"
     ]
    },
    {
     "name": "stdout",
     "output_type": "stream",
     "text": [
      "findfont: score(<Font 'Droid Sans Fallback' (DroidSansFallbackFull.ttf) normal normal 400 normal>) = 10.05\n"
     ]
    },
    {
     "name": "stderr",
     "output_type": "stream",
     "text": [
      "  3975097 findfont: score(<Font 'DejaVu Serif' (DejaVuSerif.ttf) normal normal 400 normal>) = 10.05\n"
     ]
    },
    {
     "name": "stdout",
     "output_type": "stream",
     "text": [
      "findfont: score(<Font 'DejaVu Serif' (DejaVuSerif.ttf) normal normal 400 normal>) = 10.05\n"
     ]
    },
    {
     "name": "stderr",
     "output_type": "stream",
     "text": [
      "  3975098 findfont: score(<Font 'DejaVu Sans Mono' (DejaVuSansMono-Bold.ttf) normal normal 700 normal>) = 10.335\n"
     ]
    },
    {
     "name": "stdout",
     "output_type": "stream",
     "text": [
      "findfont: score(<Font 'DejaVu Sans Mono' (DejaVuSansMono-Bold.ttf) normal normal 700 normal>) = 10.335\n"
     ]
    },
    {
     "name": "stderr",
     "output_type": "stream",
     "text": [
      "  3975099 findfont: score(<Font 'DejaVu Sans Mono' (DejaVuSansMono.ttf) normal normal 400 normal>) = 10.05\n"
     ]
    },
    {
     "name": "stdout",
     "output_type": "stream",
     "text": [
      "findfont: score(<Font 'DejaVu Sans Mono' (DejaVuSansMono.ttf) normal normal 400 normal>) = 10.05\n"
     ]
    },
    {
     "name": "stderr",
     "output_type": "stream",
     "text": [
      "  3975100 findfont: Matching sans\\-serif:style=normal:variant=normal:weight=normal:stretch=normal:size=10.0 to DejaVu Sans ('/home/htran/anaconda3/envs/myPython37/lib/python3.7/site-packages/matplotlib/mpl-data/fonts/ttf/DejaVuSans.ttf') with score of 0.050000.\n"
     ]
    },
    {
     "name": "stdout",
     "output_type": "stream",
     "text": [
      "findfont: Matching sans\\-serif:style=normal:variant=normal:weight=normal:stretch=normal:size=10.0 to DejaVu Sans ('/home/htran/anaconda3/envs/myPython37/lib/python3.7/site-packages/matplotlib/mpl-data/fonts/ttf/DejaVuSans.ttf') with score of 0.050000.\n"
     ]
    }
   ],
   "source": [
    "# '/home/htran/storage/raw_DLP/metastasis_DLP/SA919/A130854B/hmmcopy/SA919_RT_results/'\n",
    "import matplotlib.pyplot as plt\n",
    "argv=None\n",
    "if argv==None:\n",
    "        argv = pd.Series(['reads', 'state', 'gc','clone_id','hmmcopy',\n",
    "                 'model_cn_state','model_rep_state','reads'], \n",
    "                 index=['input_col','cn_col','gc_col','clone_col','cn_prior_method',\n",
    "                       'frac_rt_col','rep_col','rpm_col'])\n",
    "cn = pd.concat([cn_s_with_scrt, cn_g_with_scrt], ignore_index=True)\n",
    "\n",
    "# compute the fraction of replicated bins within each cell\n",
    "# cn = compute_cell_frac(cn, frac_rt_col=argv.frac_rt_col, rep_state_col=argv.rep_col)\n",
    "\n",
    "# compute autocorrelation features to see which cells are truly low quality\n",
    "cell_metrics = RT_stat_utils.compute_quality_features(cn,  rpm_col=argv.rpm_col) #rep_state_col=argv.rep_col, cn_state_col=argv.cn_col,\n",
    "cell_metrics_RT_frac = RT_stat_utils.compute_cell_frac_v2(cn, frac_rt_col='cell_frac_rep', rep_state_col='model_rep_state')\n",
    "cell_clones = cell_clones.loc[:,['cell_id','clone_id','cell_type_status']]\n",
    "cell_metrics = pd.merge(cell_metrics, cell_clones, on='cell_id')\n",
    "\n",
    "cell_metrics_RT_frac = pd.merge(cell_metrics_RT_frac, cell_clones, on='cell_id')\n",
    "\n"
   ]
  },
  {
   "cell_type": "code",
   "execution_count": 20,
   "id": "suspended-authentication",
   "metadata": {},
   "outputs": [],
   "source": [
    "import seaborn as sns\n",
    "p = sns.boxplot(data=cell_metrics, x=\"rep_bk\", y=\"cell_type_status\", hue=\"clone_id\") #\"rep_auto\"\n",
    "outname = os.path.join(output_dir, datatag + '_rep_bk.png') \n",
    "plt.savefig(outname, dpi=150)\n",
    "plt.close()    \n",
    "\n",
    "p1 = sns.boxplot(data=cell_metrics_RT_frac, x=\"cell_frac_rep\", y=\"cell_type_status\", hue=\"clone_id\") #\"rep_auto\"\n",
    "p1.axvline(0.05)\n",
    "p1.axvline(0.95)\n",
    "outname1 = os.path.join(output_dir, datatag + '_cell_frac_rep.png') \n",
    "plt.savefig(outname1, dpi=150)\n",
    "plt.close()    "
   ]
  },
  {
   "cell_type": "code",
   "execution_count": 19,
   "id": "military-housing",
   "metadata": {},
   "outputs": [
    {
     "data": {
      "text/plain": [
       "'/home/htran/storage/raw_DLP/metastasis_DLP/SA919/A130854B/hmmcopy/SA919_RT_results'"
      ]
     },
     "execution_count": 19,
     "metadata": {},
     "output_type": "execute_result"
    }
   ],
   "source": [
    "output_dir"
   ]
  },
  {
   "cell_type": "code",
   "execution_count": 21,
   "id": "earlier-authority",
   "metadata": {},
   "outputs": [
    {
     "name": "stdout",
     "output_type": "stream",
     "text": [
      "/home/htran/storage/raw_DLP/metastasis_DLP/SA919/A130854B/RT_input/filtered_reads_RT_g_cells.csv.gz\n",
      "/home/htran/storage/raw_DLP/metastasis_DLP/SA919/A130854B/RT_input/filtered_reads_RT_s_cells.csv.gz\n",
      "/home/htran/storage/raw_DLP/metastasis_DLP/SA919/A130854B/RT_input/A130854B_filtered_cell_clones_v2.csv\n"
     ]
    }
   ],
   "source": [
    "input_dir = \"/home/htran/storage/raw_DLP/metastasis_DLP/SA919/A130854B/RT_input/\"\n",
    "input_gfn = os.path.join(input_dir, 'filtered_reads_RT_g_cells.csv.gz') \n",
    "input_sfn = os.path.join(input_dir, 'filtered_reads_RT_s_cells.csv.gz') \n",
    "cell_clones_fn = os.path.join(input_dir, 'A130854B_filtered_cell_clones_v2.csv') \n",
    "nb_iterations = 2\n",
    "output_dir = None\n",
    "datatag = 'SA919'\n",
    "print(input_gfn)\n",
    "print(input_sfn)\n",
    "print(cell_clones_fn)"
   ]
  },
  {
   "cell_type": "code",
   "execution_count": 22,
   "id": "iraqi-appreciation",
   "metadata": {},
   "outputs": [],
   "source": [
    "from datetime import datetime\n",
    "start = datetime.now()"
   ]
  },
  {
   "cell_type": "code",
   "execution_count": 24,
   "id": "invalid-damages",
   "metadata": {},
   "outputs": [
    {
     "name": "stdout",
     "output_type": "stream",
     "text": [
      "The time of execution of above program is : 0.708ms\n"
     ]
    }
   ],
   "source": [
    "end = datetime.now()\n",
    "\n",
    "td = (end - start).total_seconds()/60 \n",
    "\n",
    "print(f\"The time of execution of above program is : {td:.03f} mins\")"
   ]
  },
  {
   "cell_type": "code",
   "execution_count": 25,
   "id": "mobile-august",
   "metadata": {},
   "outputs": [
    {
     "name": "stderr",
     "output_type": "stream",
     "text": [
      "  6133569 This message should go to the log file\n"
     ]
    },
    {
     "name": "stdout",
     "output_type": "stream",
     "text": [
      "This message should go to the log file\n"
     ]
    },
    {
     "name": "stderr",
     "output_type": "stream",
     "text": [
      "  6133571 So should this\n",
      "  6133572 The time of execution of above program is : 0.708 mins\n",
      "  6133573 And this, too\n",
      "  6133574 And non-ASCII stuff, too, like Øresund and Malmö\n"
     ]
    }
   ],
   "source": [
    "import logging\n",
    "logging.basicConfig(filename=os.path.join(input_dir, 'log.txt'), encoding='utf-8', level=logging.DEBUG)\n",
    "logging.debug('This message should go to the log file')\n",
    "logging.info('So should this')\n",
    "logging.info(f\"The time of execution of above program is : {td:.03f} mins\")\n",
    "logging.warning('And this, too')\n",
    "logging.error('And non-ASCII stuff, too, like Øresund and Malmö')\n"
   ]
  },
  {
   "cell_type": "code",
   "execution_count": null,
   "id": "prime-gateway",
   "metadata": {},
   "outputs": [],
   "source": []
  }
 ],
 "metadata": {
  "kernelspec": {
   "display_name": "myPython37",
   "language": "python",
   "name": "mypython37"
  },
  "language_info": {
   "codemirror_mode": {
    "name": "ipython",
    "version": 3
   },
   "file_extension": ".py",
   "mimetype": "text/x-python",
   "name": "python",
   "nbconvert_exporter": "python",
   "pygments_lexer": "ipython3",
   "version": "3.7.12"
  }
 },
 "nbformat": 4,
 "nbformat_minor": 5
}
